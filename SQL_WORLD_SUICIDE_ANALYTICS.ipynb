{
  "nbformat": 4,
  "nbformat_minor": 0,
  "metadata": {
    "colab": {
      "name": "SQL_WORLD_SUICIDE_ANALYTICS",
      "provenance": [],
      "collapsed_sections": [],
      "toc_visible": true,
      "authorship_tag": "ABX9TyMPuxjZtl+SSp1RThLN24yF",
      "include_colab_link": true
    },
    "kernelspec": {
      "name": "python3",
      "display_name": "Python 3"
    }
  },
  "cells": [
    {
      "cell_type": "markdown",
      "metadata": {
        "id": "view-in-github",
        "colab_type": "text"
      },
      "source": [
        "<a href=\"https://colab.research.google.com/github/allanstar-byte/ESTRELLA/blob/master/SQL_WORLD_SUICIDE_ANALYTICS.ipynb\" target=\"_parent\"><img src=\"https://colab.research.google.com/assets/colab-badge.svg\" alt=\"Open In Colab\"/></a>"
      ]
    },
    {
      "cell_type": "markdown",
      "metadata": {
        "id": "EZ4H0qK7o3Oc",
        "colab_type": "text"
      },
      "source": [
        "# **SQL DATA CLEANING, OUTLIERS AND ANALYTICS**"
      ]
    },
    {
      "cell_type": "markdown",
      "metadata": {
        "id": "YZU_zGTspB4s",
        "colab_type": "text"
      },
      "source": [
        "# **1. Connecting to our Database**"
      ]
    },
    {
      "cell_type": "code",
      "metadata": {
        "id": "Wtc6R2XIvIQ8",
        "colab_type": "code",
        "colab": {
          "base_uri": "https://localhost:8080/",
          "height": 35
        },
        "outputId": "dc7f557c-ef2e-45e8-c8ba-9951aa95615e"
      },
      "source": [
        "#loading the sql extension into our environment\n",
        "%load_ext sql\n",
        "\n",
        "# Then connect to our in memory sqlite database\n",
        " \n",
        "%sql sqlite://"
      ],
      "execution_count": 1,
      "outputs": [
        {
          "output_type": "execute_result",
          "data": {
            "application/vnd.google.colaboratory.intrinsic+json": {
              "type": "string"
            },
            "text/plain": [
              "'Connected: @None'"
            ]
          },
          "metadata": {
            "tags": []
          },
          "execution_count": 1
        }
      ]
    },
    {
      "cell_type": "markdown",
      "metadata": {
        "id": "UFgLBwDnvkNz",
        "colab_type": "text"
      },
      "source": [
        "# **2. Importing Data from CSV files**"
      ]
    },
    {
      "cell_type": "markdown",
      "metadata": {
        "id": "wJnY0njivhu6",
        "colab_type": "text"
      },
      "source": [
        "The dataset we will use contains suicide cases from different countries in the world with different generations, age groups and other factors as outlined below."
      ]
    },
    {
      "cell_type": "code",
      "metadata": {
        "id": "82B0TrjxvxTg",
        "colab_type": "code",
        "colab": {}
      },
      "source": [
        "# Importing the pandas library\n",
        "# We will use a function read_csv from pandas to read our datasets as shown\n",
        "#\n",
        "import pandas as pd "
      ],
      "execution_count": 2,
      "outputs": []
    },
    {
      "cell_type": "code",
      "metadata": {
        "id": "BW1wUmCFv0LO",
        "colab_type": "code",
        "colab": {
          "base_uri": "https://localhost:8080/",
          "height": 230
        },
        "outputId": "9f592e29-0ff2-456b-8037-005ee6ce90c2"
      },
      "source": [
        "# Loading our table from the respective CSV files \n",
        "with open('/content/Suicide.csv','r') as f:\n",
        "    Suicide = pd.read_csv(f, index_col=0, encoding='utf-8')\n",
        "%sql DROP TABLE if EXISTS Suicide\n",
        "%sql PERSIST Suicide;\n",
        "%sql SELECT * FROM Suicide LIMIT 5;"
      ],
      "execution_count": 3,
      "outputs": [
        {
          "output_type": "stream",
          "text": [
            " * sqlite://\n",
            "Done.\n",
            " * sqlite://\n",
            " * sqlite://\n",
            "Done.\n"
          ],
          "name": "stdout"
        },
        {
          "output_type": "execute_result",
          "data": {
            "text/html": [
              "<table>\n",
              "    <tr>\n",
              "        <th>index</th>\n",
              "        <th>Country</th>\n",
              "        <th>Year</th>\n",
              "        <th>Sex</th>\n",
              "        <th>Age</th>\n",
              "        <th>Suicides_no</th>\n",
              "        <th>Population</th>\n",
              "        <th>Suicides_per_hundred_thousand_pop</th>\n",
              "        <th>Gdp_for_year</th>\n",
              "        <th>Gdp_per_capita</th>\n",
              "        <th>Generation</th>\n",
              "        <th>Suicide_rate</th>\n",
              "    </tr>\n",
              "    <tr>\n",
              "        <td>0</td>\n",
              "        <td>Albania</td>\n",
              "        <td>1987</td>\n",
              "        <td>male</td>\n",
              "        <td>15-24 years</td>\n",
              "        <td>21</td>\n",
              "        <td>312900</td>\n",
              "        <td>6.71</td>\n",
              "        <td>2156624900.0</td>\n",
              "        <td>796</td>\n",
              "        <td>Generation X</td>\n",
              "        <td>0.006711409395973153</td>\n",
              "    </tr>\n",
              "    <tr>\n",
              "        <td>1</td>\n",
              "        <td>Albania</td>\n",
              "        <td>1987</td>\n",
              "        <td>male</td>\n",
              "        <td>35-54 years</td>\n",
              "        <td>16</td>\n",
              "        <td>308000</td>\n",
              "        <td>5.19</td>\n",
              "        <td>2156624900.0</td>\n",
              "        <td>796</td>\n",
              "        <td>Silent</td>\n",
              "        <td>0.005194805194805196</td>\n",
              "    </tr>\n",
              "    <tr>\n",
              "        <td>2</td>\n",
              "        <td>Albania</td>\n",
              "        <td>1987</td>\n",
              "        <td>female</td>\n",
              "        <td>15-24 years</td>\n",
              "        <td>14</td>\n",
              "        <td>289700</td>\n",
              "        <td>4.83</td>\n",
              "        <td>2156624900.0</td>\n",
              "        <td>796</td>\n",
              "        <td>Generation X</td>\n",
              "        <td>0.004832585433206766</td>\n",
              "    </tr>\n",
              "    <tr>\n",
              "        <td>3</td>\n",
              "        <td>Albania</td>\n",
              "        <td>1987</td>\n",
              "        <td>male</td>\n",
              "        <td>75+ years</td>\n",
              "        <td>1</td>\n",
              "        <td>21800</td>\n",
              "        <td>4.59</td>\n",
              "        <td>2156624900.0</td>\n",
              "        <td>796</td>\n",
              "        <td>G.I. Generation</td>\n",
              "        <td>0.004587155963302753</td>\n",
              "    </tr>\n",
              "    <tr>\n",
              "        <td>4</td>\n",
              "        <td>Albania</td>\n",
              "        <td>1987</td>\n",
              "        <td>male</td>\n",
              "        <td>25-34 years</td>\n",
              "        <td>9</td>\n",
              "        <td>274300</td>\n",
              "        <td>3.28</td>\n",
              "        <td>2156624900.0</td>\n",
              "        <td>796</td>\n",
              "        <td>Boomers</td>\n",
              "        <td>0.0032810791104629965</td>\n",
              "    </tr>\n",
              "</table>"
            ],
            "text/plain": [
              "[(0, 'Albania', 1987, 'male', '15-24 years', 21, 312900, 6.71, 2156624900.0, 796, 'Generation X', 0.006711409395973153),\n",
              " (1, 'Albania', 1987, 'male', '35-54 years', 16, 308000, 5.19, 2156624900.0, 796, 'Silent', 0.005194805194805196),\n",
              " (2, 'Albania', 1987, 'female', '15-24 years', 14, 289700, 4.83, 2156624900.0, 796, 'Generation X', 0.004832585433206766),\n",
              " (3, 'Albania', 1987, 'male', '75+ years', 1, 21800, 4.59, 2156624900.0, 796, 'G.I. Generation', 0.004587155963302753),\n",
              " (4, 'Albania', 1987, 'male', '25-34 years', 9, 274300, 3.28, 2156624900.0, 796, 'Boomers', 0.0032810791104629965)]"
            ]
          },
          "metadata": {
            "tags": []
          },
          "execution_count": 3
        }
      ]
    },
    {
      "cell_type": "markdown",
      "metadata": {
        "id": "tqsNSD_mwkye",
        "colab_type": "text"
      },
      "source": [
        "# **3. Analytics**"
      ]
    },
    {
      "cell_type": "code",
      "metadata": {
        "id": "Py_ji5P1zwmF",
        "colab_type": "code",
        "colab": {
          "base_uri": "https://localhost:8080/",
          "height": 179
        },
        "outputId": "d3c44f34-06b3-4342-dbd1-2921093f3d3f"
      },
      "source": [
        "#1. identifying top 5 countries with the highest suicide cases in the world\n",
        "%%sql\n",
        "SELECT Country, \n",
        "SUM (Suicides_no) \n",
        "FROM Suicide \n",
        "GROUP BY Country\n",
        "ORDER BY SUM (Suicides_no) DESC\n",
        "limit 5;"
      ],
      "execution_count": 4,
      "outputs": [
        {
          "output_type": "stream",
          "text": [
            " * sqlite://\n",
            "Done.\n"
          ],
          "name": "stdout"
        },
        {
          "output_type": "execute_result",
          "data": {
            "text/html": [
              "<table>\n",
              "    <tr>\n",
              "        <th>Country</th>\n",
              "        <th>SUM (Suicides_no)</th>\n",
              "    </tr>\n",
              "    <tr>\n",
              "        <td>Bulgaria</td>\n",
              "        <td>31114</td>\n",
              "    </tr>\n",
              "    <tr>\n",
              "        <td>Hungary</td>\n",
              "        <td>30122</td>\n",
              "    </tr>\n",
              "    <tr>\n",
              "        <td>Chile</td>\n",
              "        <td>30111</td>\n",
              "    </tr>\n",
              "    <tr>\n",
              "        <td>Colombia</td>\n",
              "        <td>28094</td>\n",
              "    </tr>\n",
              "    <tr>\n",
              "        <td>Romania</td>\n",
              "        <td>27161</td>\n",
              "    </tr>\n",
              "</table>"
            ],
            "text/plain": [
              "[('Bulgaria', 31114),\n",
              " ('Hungary', 30122),\n",
              " ('Chile', 30111),\n",
              " ('Colombia', 28094),\n",
              " ('Romania', 27161)]"
            ]
          },
          "metadata": {
            "tags": []
          },
          "execution_count": 4
        }
      ]
    },
    {
      "cell_type": "code",
      "metadata": {
        "id": "k-xQMAYm3xMW",
        "colab_type": "code",
        "colab": {
          "base_uri": "https://localhost:8080/",
          "height": 179
        },
        "outputId": "bd50ffca-8926-440e-80de-fcccb84a8420"
      },
      "source": [
        "#2. identifying top 5 countries with the lowest suicide cases in the world\n",
        "%%sql\n",
        "SELECT Country, \n",
        "SUM (Suicides_no) \n",
        "FROM Suicide \n",
        "GROUP BY Country\n",
        "ORDER BY SUM (Suicides_no) ASC\n",
        "limit 5;"
      ],
      "execution_count": 5,
      "outputs": [
        {
          "output_type": "stream",
          "text": [
            " * sqlite://\n",
            "Done.\n"
          ],
          "name": "stdout"
        },
        {
          "output_type": "execute_result",
          "data": {
            "text/html": [
              "<table>\n",
              "    <tr>\n",
              "        <th>Country</th>\n",
              "        <th>SUM (Suicides_no)</th>\n",
              "    </tr>\n",
              "    <tr>\n",
              "        <td>Dominica</td>\n",
              "        <td>0</td>\n",
              "    </tr>\n",
              "    <tr>\n",
              "        <td>Saint Kitts and Nevis</td>\n",
              "        <td>0</td>\n",
              "    </tr>\n",
              "    <tr>\n",
              "        <td>San Marino</td>\n",
              "        <td>1</td>\n",
              "    </tr>\n",
              "    <tr>\n",
              "        <td>Antigua and Barbuda</td>\n",
              "        <td>11</td>\n",
              "    </tr>\n",
              "    <tr>\n",
              "        <td>Maldives</td>\n",
              "        <td>20</td>\n",
              "    </tr>\n",
              "</table>"
            ],
            "text/plain": [
              "[('Dominica', 0),\n",
              " ('Saint Kitts and Nevis', 0),\n",
              " ('San Marino', 1),\n",
              " ('Antigua and Barbuda', 11),\n",
              " ('Maldives', 20)]"
            ]
          },
          "metadata": {
            "tags": []
          },
          "execution_count": 5
        }
      ]
    },
    {
      "cell_type": "code",
      "metadata": {
        "id": "fH3iFADI4ETQ",
        "colab_type": "code",
        "colab": {
          "base_uri": "https://localhost:8080/",
          "height": 179
        },
        "outputId": "86a1b01d-bba2-47e2-b009-a16f5e9c19a3"
      },
      "source": [
        "#3. identifying the generation with the highest suicide cases\n",
        "%%sql\n",
        "SELECT Generation, \n",
        "SUM (Suicide_rate) \n",
        "FROM Suicide \n",
        "GROUP BY Generation\n",
        "ORDER BY SUM (Suicide_rate) DESC\n",
        "limit 5;"
      ],
      "execution_count": 14,
      "outputs": [
        {
          "output_type": "stream",
          "text": [
            " * sqlite://\n",
            "Done.\n"
          ],
          "name": "stdout"
        },
        {
          "output_type": "execute_result",
          "data": {
            "text/html": [
              "<table>\n",
              "    <tr>\n",
              "        <th>Generation</th>\n",
              "        <th>SUM (Suicide_rate)</th>\n",
              "    </tr>\n",
              "    <tr>\n",
              "        <td>Silent</td>\n",
              "        <td>68.9819648605656</td>\n",
              "    </tr>\n",
              "    <tr>\n",
              "        <td>G.I. Generation</td>\n",
              "        <td>48.559870123235115</td>\n",
              "    </tr>\n",
              "    <tr>\n",
              "        <td>Generation X</td>\n",
              "        <td>41.461184945162145</td>\n",
              "    </tr>\n",
              "    <tr>\n",
              "        <td>Boomers</td>\n",
              "        <td>36.59115653391015</td>\n",
              "    </tr>\n",
              "    <tr>\n",
              "        <td>Millenials</td>\n",
              "        <td>18.740245430099733</td>\n",
              "    </tr>\n",
              "</table>"
            ],
            "text/plain": [
              "[('Silent', 68.9819648605656),\n",
              " ('G.I. Generation', 48.559870123235115),\n",
              " ('Generation X', 41.461184945162145),\n",
              " ('Boomers', 36.59115653391015),\n",
              " ('Millenials', 18.740245430099733)]"
            ]
          },
          "metadata": {
            "tags": []
          },
          "execution_count": 14
        }
      ]
    },
    {
      "cell_type": "code",
      "metadata": {
        "id": "rgyuAfRg4b4Y",
        "colab_type": "code",
        "colab": {
          "base_uri": "https://localhost:8080/",
          "height": 179
        },
        "outputId": "b35fa401-5402-461d-e6e8-9b7c8245e81b"
      },
      "source": [
        "#4. identifying the generations with the lowest suicide cases\n",
        "%%sql\n",
        "SELECT Generation, \n",
        "SUM (Suicide_rate) \n",
        "FROM Suicide \n",
        "GROUP BY Generation\n",
        "ORDER BY SUM (Suicide_rate) ASC\n",
        "limit 5;"
      ],
      "execution_count": 15,
      "outputs": [
        {
          "output_type": "stream",
          "text": [
            " * sqlite://\n",
            "Done.\n"
          ],
          "name": "stdout"
        },
        {
          "output_type": "execute_result",
          "data": {
            "text/html": [
              "<table>\n",
              "    <tr>\n",
              "        <th>Generation</th>\n",
              "        <th>SUM (Suicide_rate)</th>\n",
              "    </tr>\n",
              "    <tr>\n",
              "        <td>Generation Z</td>\n",
              "        <td>0.6941691244818434</td>\n",
              "    </tr>\n",
              "    <tr>\n",
              "        <td>Millenials</td>\n",
              "        <td>18.740245430099733</td>\n",
              "    </tr>\n",
              "    <tr>\n",
              "        <td>Boomers</td>\n",
              "        <td>36.59115653391015</td>\n",
              "    </tr>\n",
              "    <tr>\n",
              "        <td>Generation X</td>\n",
              "        <td>41.461184945162145</td>\n",
              "    </tr>\n",
              "    <tr>\n",
              "        <td>G.I. Generation</td>\n",
              "        <td>48.559870123235115</td>\n",
              "    </tr>\n",
              "</table>"
            ],
            "text/plain": [
              "[('Generation Z', 0.6941691244818434),\n",
              " ('Millenials', 18.740245430099733),\n",
              " ('Boomers', 36.59115653391015),\n",
              " ('Generation X', 41.461184945162145),\n",
              " ('G.I. Generation', 48.559870123235115)]"
            ]
          },
          "metadata": {
            "tags": []
          },
          "execution_count": 15
        }
      ]
    },
    {
      "cell_type": "code",
      "metadata": {
        "id": "Y-x9oHKm4or8",
        "colab_type": "code",
        "colab": {
          "base_uri": "https://localhost:8080/",
          "height": 116
        },
        "outputId": "1e28c327-84f6-4bf3-e1ff-d65a6efb8ef1"
      },
      "source": [
        "#5 Investigating which gender has more suicide rates compared to the other one\n",
        "%%sql\n",
        "SELECT Sex, \n",
        "SUM (Suicides_no) \n",
        "FROM Suicide \n",
        "GROUP BY Sex\n",
        "ORDER BY SUM (Suicides_no) DESC\n",
        "limit 5;"
      ],
      "execution_count": 16,
      "outputs": [
        {
          "output_type": "stream",
          "text": [
            " * sqlite://\n",
            "Done.\n"
          ],
          "name": "stdout"
        },
        {
          "output_type": "execute_result",
          "data": {
            "text/html": [
              "<table>\n",
              "    <tr>\n",
              "        <th>Sex</th>\n",
              "        <th>SUM (Suicides_no)</th>\n",
              "    </tr>\n",
              "    <tr>\n",
              "        <td>male</td>\n",
              "        <td>498619</td>\n",
              "    </tr>\n",
              "    <tr>\n",
              "        <td>female</td>\n",
              "        <td>329940</td>\n",
              "    </tr>\n",
              "</table>"
            ],
            "text/plain": [
              "[('male', 498619), ('female', 329940)]"
            ]
          },
          "metadata": {
            "tags": []
          },
          "execution_count": 16
        }
      ]
    },
    {
      "cell_type": "code",
      "metadata": {
        "id": "6tlOKuyu4_Ta",
        "colab_type": "code",
        "colab": {
          "base_uri": "https://localhost:8080/",
          "height": 179
        },
        "outputId": "c4333fe3-88b4-4811-90c1-7875acbe163c"
      },
      "source": [
        "#6. Knowing the age group which most people commit suicide\n",
        "%%sql\n",
        "SELECT Age, \n",
        "SUM (Suicides_no) \n",
        "FROM Suicide \n",
        "GROUP BY Age\n",
        "ORDER BY SUM (Suicide_rate) DESC\n",
        "limit 5;"
      ],
      "execution_count": 9,
      "outputs": [
        {
          "output_type": "stream",
          "text": [
            " * sqlite://\n",
            "Done.\n"
          ],
          "name": "stdout"
        },
        {
          "output_type": "execute_result",
          "data": {
            "text/html": [
              "<table>\n",
              "    <tr>\n",
              "        <th>Age</th>\n",
              "        <th>SUM (Suicides_no)</th>\n",
              "    </tr>\n",
              "    <tr>\n",
              "        <td>75+ years</td>\n",
              "        <td>122442</td>\n",
              "    </tr>\n",
              "    <tr>\n",
              "        <td>55-74 years</td>\n",
              "        <td>184481</td>\n",
              "    </tr>\n",
              "    <tr>\n",
              "        <td>25-34 years</td>\n",
              "        <td>165014</td>\n",
              "    </tr>\n",
              "    <tr>\n",
              "        <td>35-54 years</td>\n",
              "        <td>185622</td>\n",
              "    </tr>\n",
              "    <tr>\n",
              "        <td>15-24 years</td>\n",
              "        <td>149630</td>\n",
              "    </tr>\n",
              "</table>"
            ],
            "text/plain": [
              "[('75+ years', 122442),\n",
              " ('55-74 years', 184481),\n",
              " ('25-34 years', 165014),\n",
              " ('35-54 years', 185622),\n",
              " ('15-24 years', 149630)]"
            ]
          },
          "metadata": {
            "tags": []
          },
          "execution_count": 9
        }
      ]
    },
    {
      "cell_type": "code",
      "metadata": {
        "id": "-0cPGFVN5NGT",
        "colab_type": "code",
        "colab": {
          "base_uri": "https://localhost:8080/",
          "height": 179
        },
        "outputId": "07351d1b-9f94-4ca4-80b7-2430c594b96c"
      },
      "source": [
        "#7. Finding out the year where people committed suicide the most\n",
        "%%sql\n",
        "SELECT Year, \n",
        "SUM (Suicides_no) \n",
        "FROM Suicide \n",
        "GROUP BY Year\n",
        "ORDER BY SUM (Suicides_no) DESC\n",
        "limit 5;"
      ],
      "execution_count": 17,
      "outputs": [
        {
          "output_type": "stream",
          "text": [
            " * sqlite://\n",
            "Done.\n"
          ],
          "name": "stdout"
        },
        {
          "output_type": "execute_result",
          "data": {
            "text/html": [
              "<table>\n",
              "    <tr>\n",
              "        <th>Year</th>\n",
              "        <th>SUM (Suicides_no)</th>\n",
              "    </tr>\n",
              "    <tr>\n",
              "        <td>1999</td>\n",
              "        <td>35636</td>\n",
              "    </tr>\n",
              "    <tr>\n",
              "        <td>2000</td>\n",
              "        <td>35279</td>\n",
              "    </tr>\n",
              "    <tr>\n",
              "        <td>2002</td>\n",
              "        <td>35128</td>\n",
              "    </tr>\n",
              "    <tr>\n",
              "        <td>2001</td>\n",
              "        <td>34769</td>\n",
              "    </tr>\n",
              "    <tr>\n",
              "        <td>1997</td>\n",
              "        <td>34544</td>\n",
              "    </tr>\n",
              "</table>"
            ],
            "text/plain": [
              "[(1999, 35636), (2000, 35279), (2002, 35128), (2001, 34769), (1997, 34544)]"
            ]
          },
          "metadata": {
            "tags": []
          },
          "execution_count": 17
        }
      ]
    },
    {
      "cell_type": "code",
      "metadata": {
        "id": "-llQ4utJ5bJP",
        "colab_type": "code",
        "colab": {
          "base_uri": "https://localhost:8080/",
          "height": 179
        },
        "outputId": "01d21ea5-8424-4673-d66b-7ac399844152"
      },
      "source": [
        "#8. Finding which countries has the most suicides comited at every 100,000\n",
        "%%sql\n",
        "SELECT Country, \n",
        "SUM (Suicides_per_hundred_thousand_pop) \n",
        "FROM Suicide \n",
        "GROUP BY Country\n",
        "ORDER BY SUM (Suicides_per_hundred_thousand_pop) DESC\n",
        "limit 5;"
      ],
      "execution_count": 11,
      "outputs": [
        {
          "output_type": "stream",
          "text": [
            " * sqlite://\n",
            "Done.\n"
          ],
          "name": "stdout"
        },
        {
          "output_type": "execute_result",
          "data": {
            "text/html": [
              "<table>\n",
              "    <tr>\n",
              "        <th>Country</th>\n",
              "        <th>SUM (Suicides_per_hundred_thousand_pop)</th>\n",
              "    </tr>\n",
              "    <tr>\n",
              "        <td>Lithuania</td>\n",
              "        <td>8091.179999999998</td>\n",
              "    </tr>\n",
              "    <tr>\n",
              "        <td>Latvia</td>\n",
              "        <td>7264.590000000004</td>\n",
              "    </tr>\n",
              "    <tr>\n",
              "        <td>Suriname</td>\n",
              "        <td>7162.319999999997</td>\n",
              "    </tr>\n",
              "    <tr>\n",
              "        <td>Slovenia</td>\n",
              "        <td>7012.619999999997</td>\n",
              "    </tr>\n",
              "    <tr>\n",
              "        <td>Estonia</td>\n",
              "        <td>6873.780000000001</td>\n",
              "    </tr>\n",
              "</table>"
            ],
            "text/plain": [
              "[('Lithuania', 8091.179999999998),\n",
              " ('Latvia', 7264.590000000004),\n",
              " ('Suriname', 7162.319999999997),\n",
              " ('Slovenia', 7012.619999999997),\n",
              " ('Estonia', 6873.780000000001)]"
            ]
          },
          "metadata": {
            "tags": []
          },
          "execution_count": 11
        }
      ]
    },
    {
      "cell_type": "code",
      "metadata": {
        "id": "jTr7pTwCBtLy",
        "colab_type": "code",
        "colab": {
          "base_uri": "https://localhost:8080/",
          "height": 221
        },
        "outputId": "9fd92b60-6ee9-44c2-e495-f3baa29cc4e9"
      },
      "source": [
        "#9. Finding which countries has the leas suicides comited at every 100,000\n",
        "%%sql\n",
        "SELECT Country, \n",
        "SUM (Suicides_per_hundred_thousand_pop) \n",
        "FROM Suicide \n",
        "GROUP BY Country\n",
        "ORDER BY SUM (Suicides_per_hundred_thousand_pop) ASC\n",
        "limit 7;"
      ],
      "execution_count": 18,
      "outputs": [
        {
          "output_type": "stream",
          "text": [
            " * sqlite://\n",
            "Done.\n"
          ],
          "name": "stdout"
        },
        {
          "output_type": "execute_result",
          "data": {
            "text/html": [
              "<table>\n",
              "    <tr>\n",
              "        <th>Country</th>\n",
              "        <th>SUM (Suicides_per_hundred_thousand_pop)</th>\n",
              "    </tr>\n",
              "    <tr>\n",
              "        <td>Dominica</td>\n",
              "        <td>0.0</td>\n",
              "    </tr>\n",
              "    <tr>\n",
              "        <td>Saint Kitts and Nevis</td>\n",
              "        <td>0.0</td>\n",
              "    </tr>\n",
              "    <tr>\n",
              "        <td>Russian Federation</td>\n",
              "        <td>10.52</td>\n",
              "    </tr>\n",
              "    <tr>\n",
              "        <td>Oman</td>\n",
              "        <td>26.5</td>\n",
              "    </tr>\n",
              "    <tr>\n",
              "        <td>Qatar</td>\n",
              "        <td>27.300000000000004</td>\n",
              "    </tr>\n",
              "    <tr>\n",
              "        <td>San Marino</td>\n",
              "        <td>47.26</td>\n",
              "    </tr>\n",
              "    <tr>\n",
              "        <td>United Arab Emirates</td>\n",
              "        <td>50.489999999999995</td>\n",
              "    </tr>\n",
              "</table>"
            ],
            "text/plain": [
              "[('Dominica', 0.0),\n",
              " ('Saint Kitts and Nevis', 0.0),\n",
              " ('Russian Federation', 10.52),\n",
              " ('Oman', 26.5),\n",
              " ('Qatar', 27.300000000000004),\n",
              " ('San Marino', 47.26),\n",
              " ('United Arab Emirates', 50.489999999999995)]"
            ]
          },
          "metadata": {
            "tags": []
          },
          "execution_count": 18
        }
      ]
    },
    {
      "cell_type": "code",
      "metadata": {
        "id": "1hq2vM27AyAN",
        "colab_type": "code",
        "colab": {
          "base_uri": "https://localhost:8080/",
          "height": 179
        },
        "outputId": "4dc767dc-4820-4630-e84a-bcedc0ce68cf"
      },
      "source": [
        "#10. Finding which Age groups has the most suicides commited at every 100,000\n",
        "%%sql\n",
        "SELECT Age, \n",
        "SUM (Suicides_per_hundred_thousand_pop) \n",
        "FROM Suicide \n",
        "GROUP BY Age\n",
        "ORDER BY SUM (Suicides_per_hundred_thousand_pop) DESC\n",
        "limit 5;"
      ],
      "execution_count": 13,
      "outputs": [
        {
          "output_type": "stream",
          "text": [
            " * sqlite://\n",
            "Done.\n"
          ],
          "name": "stdout"
        },
        {
          "output_type": "execute_result",
          "data": {
            "text/html": [
              "<table>\n",
              "    <tr>\n",
              "        <th>Age</th>\n",
              "        <th>SUM (Suicides_per_hundred_thousand_pop)</th>\n",
              "    </tr>\n",
              "    <tr>\n",
              "        <td>75+ years</td>\n",
              "        <td>77855.35000000012</td>\n",
              "    </tr>\n",
              "    <tr>\n",
              "        <td>55-74 years</td>\n",
              "        <td>40175.260000000024</td>\n",
              "    </tr>\n",
              "    <tr>\n",
              "        <td>25-34 years</td>\n",
              "        <td>35094.57000000001</td>\n",
              "    </tr>\n",
              "    <tr>\n",
              "        <td>35-54 years</td>\n",
              "        <td>32224.650000000027</td>\n",
              "    </tr>\n",
              "    <tr>\n",
              "        <td>15-24 years</td>\n",
              "        <td>27357.850000000042</td>\n",
              "    </tr>\n",
              "</table>"
            ],
            "text/plain": [
              "[('75+ years', 77855.35000000012),\n",
              " ('55-74 years', 40175.260000000024),\n",
              " ('25-34 years', 35094.57000000001),\n",
              " ('35-54 years', 32224.650000000027),\n",
              " ('15-24 years', 27357.850000000042)]"
            ]
          },
          "metadata": {
            "tags": []
          },
          "execution_count": 13
        }
      ]
    }
  ]
}