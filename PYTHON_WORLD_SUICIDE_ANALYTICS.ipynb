{
  "nbformat": 4,
  "nbformat_minor": 0,
  "metadata": {
    "colab": {
      "name": "PYTHON_WORLD_SUICIDE_ANALYTICS",
      "provenance": [],
      "collapsed_sections": [],
      "toc_visible": true,
      "include_colab_link": true
    },
    "kernelspec": {
      "name": "python3",
      "display_name": "Python 3"
    }
  },
  "cells": [
    {
      "cell_type": "markdown",
      "metadata": {
        "id": "view-in-github",
        "colab_type": "text"
      },
      "source": [
        "<a href=\"https://colab.research.google.com/github/allanstar-byte/ESTRELLA/blob/master/PYTHON_WORLD_SUICIDE_ANALYTICS.ipynb\" target=\"_parent\"><img src=\"https://colab.research.google.com/assets/colab-badge.svg\" alt=\"Open In Colab\"/></a>"
      ]
    },
    {
      "cell_type": "markdown",
      "metadata": {
        "id": "3ulgLT8DKc3c",
        "colab_type": "text"
      },
      "source": [
        "# **PYTHON DATA CLEANING, OUTLIERS AND ANALYTICS**"
      ]
    },
    {
      "cell_type": "markdown",
      "metadata": {
        "id": "CeF2xJLLpq9O",
        "colab_type": "text"
      },
      "source": [
        ""
      ]
    },
    {
      "cell_type": "markdown",
      "metadata": {
        "id": "j64lM347KyAc",
        "colab_type": "text"
      },
      "source": [
        "# **1. Importing Libraries**"
      ]
    },
    {
      "cell_type": "code",
      "metadata": {
        "id": "Q34aNl60rBqg",
        "colab_type": "code",
        "colab": {}
      },
      "source": [
        "# Importing the pandas library\n",
        "import pandas as pd\n",
        "\n",
        "# Importing the numpy library\n",
        "import numpy as np"
      ],
      "execution_count": 1,
      "outputs": []
    },
    {
      "cell_type": "markdown",
      "metadata": {
        "id": "Tz28ULSQHSId",
        "colab_type": "text"
      },
      "source": [
        "# **2. Reading the Dataset from our CSV file**"
      ]
    },
    {
      "cell_type": "markdown",
      "metadata": {
        "id": "6VRGMflvLDko",
        "colab_type": "text"
      },
      "source": [
        "The dataset we will use contains suicide cases from different countries in the world with different generations, age groups and other factors as outlined below."
      ]
    },
    {
      "cell_type": "code",
      "metadata": {
        "id": "v7wRNnC2cxf9",
        "colab_type": "code",
        "colab": {
          "base_uri": "https://localhost:8080/",
          "height": 306
        },
        "outputId": "c4292f8c-5955-4f08-e1ca-8bf413166189"
      },
      "source": [
        "#Reading the data from the CSV file and create the dataframe to be used\n",
        "df = pd.read_csv('/content/master.csv')\n",
        "df.head()"
      ],
      "execution_count": 2,
      "outputs": [
        {
          "output_type": "execute_result",
          "data": {
            "text/html": [
              "<div>\n",
              "<style scoped>\n",
              "    .dataframe tbody tr th:only-of-type {\n",
              "        vertical-align: middle;\n",
              "    }\n",
              "\n",
              "    .dataframe tbody tr th {\n",
              "        vertical-align: top;\n",
              "    }\n",
              "\n",
              "    .dataframe thead th {\n",
              "        text-align: right;\n",
              "    }\n",
              "</style>\n",
              "<table border=\"1\" class=\"dataframe\">\n",
              "  <thead>\n",
              "    <tr style=\"text-align: right;\">\n",
              "      <th></th>\n",
              "      <th>country</th>\n",
              "      <th>year</th>\n",
              "      <th>sex</th>\n",
              "      <th>age</th>\n",
              "      <th>suicides_no</th>\n",
              "      <th>population</th>\n",
              "      <th>suicides/100k pop</th>\n",
              "      <th>country-year</th>\n",
              "      <th>HDI for year</th>\n",
              "      <th>gdp_for_year ($)</th>\n",
              "      <th>gdp_per_capita ($)</th>\n",
              "      <th>generation</th>\n",
              "    </tr>\n",
              "  </thead>\n",
              "  <tbody>\n",
              "    <tr>\n",
              "      <th>0</th>\n",
              "      <td>Albania</td>\n",
              "      <td>1987</td>\n",
              "      <td>male</td>\n",
              "      <td>15-24 years</td>\n",
              "      <td>21</td>\n",
              "      <td>312900</td>\n",
              "      <td>6.71</td>\n",
              "      <td>Albania1987</td>\n",
              "      <td>NaN</td>\n",
              "      <td>2,156,624,900</td>\n",
              "      <td>796</td>\n",
              "      <td>Generation X</td>\n",
              "    </tr>\n",
              "    <tr>\n",
              "      <th>1</th>\n",
              "      <td>Albania</td>\n",
              "      <td>1987</td>\n",
              "      <td>male</td>\n",
              "      <td>35-54 years</td>\n",
              "      <td>16</td>\n",
              "      <td>308000</td>\n",
              "      <td>5.19</td>\n",
              "      <td>Albania1987</td>\n",
              "      <td>NaN</td>\n",
              "      <td>2,156,624,900</td>\n",
              "      <td>796</td>\n",
              "      <td>Silent</td>\n",
              "    </tr>\n",
              "    <tr>\n",
              "      <th>2</th>\n",
              "      <td>Albania</td>\n",
              "      <td>1987</td>\n",
              "      <td>female</td>\n",
              "      <td>15-24 years</td>\n",
              "      <td>14</td>\n",
              "      <td>289700</td>\n",
              "      <td>4.83</td>\n",
              "      <td>Albania1987</td>\n",
              "      <td>NaN</td>\n",
              "      <td>2,156,624,900</td>\n",
              "      <td>796</td>\n",
              "      <td>Generation X</td>\n",
              "    </tr>\n",
              "    <tr>\n",
              "      <th>3</th>\n",
              "      <td>Albania</td>\n",
              "      <td>1987</td>\n",
              "      <td>male</td>\n",
              "      <td>75+ years</td>\n",
              "      <td>1</td>\n",
              "      <td>21800</td>\n",
              "      <td>4.59</td>\n",
              "      <td>Albania1987</td>\n",
              "      <td>NaN</td>\n",
              "      <td>2,156,624,900</td>\n",
              "      <td>796</td>\n",
              "      <td>G.I. Generation</td>\n",
              "    </tr>\n",
              "    <tr>\n",
              "      <th>4</th>\n",
              "      <td>Albania</td>\n",
              "      <td>1987</td>\n",
              "      <td>male</td>\n",
              "      <td>25-34 years</td>\n",
              "      <td>9</td>\n",
              "      <td>274300</td>\n",
              "      <td>3.28</td>\n",
              "      <td>Albania1987</td>\n",
              "      <td>NaN</td>\n",
              "      <td>2,156,624,900</td>\n",
              "      <td>796</td>\n",
              "      <td>Boomers</td>\n",
              "    </tr>\n",
              "  </tbody>\n",
              "</table>\n",
              "</div>"
            ],
            "text/plain": [
              "   country  year  ... gdp_per_capita ($)       generation\n",
              "0  Albania  1987  ...                796     Generation X\n",
              "1  Albania  1987  ...                796           Silent\n",
              "2  Albania  1987  ...                796     Generation X\n",
              "3  Albania  1987  ...                796  G.I. Generation\n",
              "4  Albania  1987  ...                796          Boomers\n",
              "\n",
              "[5 rows x 12 columns]"
            ]
          },
          "metadata": {
            "tags": []
          },
          "execution_count": 2
        }
      ]
    },
    {
      "cell_type": "code",
      "metadata": {
        "id": "6_6Zx-R9fHMB",
        "colab_type": "code",
        "colab": {
          "base_uri": "https://localhost:8080/",
          "height": 34
        },
        "outputId": "cfa65640-17ec-401b-bad1-cf748737bbbf"
      },
      "source": [
        "df.shape"
      ],
      "execution_count": 3,
      "outputs": [
        {
          "output_type": "execute_result",
          "data": {
            "text/plain": [
              "(27820, 12)"
            ]
          },
          "metadata": {
            "tags": []
          },
          "execution_count": 3
        }
      ]
    },
    {
      "cell_type": "code",
      "metadata": {
        "id": "q5SVxedGZKEC",
        "colab_type": "code",
        "colab": {
          "base_uri": "https://localhost:8080/",
          "height": 340
        },
        "outputId": "03cdccca-ac62-41af-bff6-6c453203d6bb"
      },
      "source": [
        "df.info()"
      ],
      "execution_count": 4,
      "outputs": [
        {
          "output_type": "stream",
          "text": [
            "<class 'pandas.core.frame.DataFrame'>\n",
            "RangeIndex: 27820 entries, 0 to 27819\n",
            "Data columns (total 12 columns):\n",
            " #   Column              Non-Null Count  Dtype  \n",
            "---  ------              --------------  -----  \n",
            " 0   country             27820 non-null  object \n",
            " 1   year                27820 non-null  int64  \n",
            " 2   sex                 27820 non-null  object \n",
            " 3   age                 27820 non-null  object \n",
            " 4   suicides_no         27820 non-null  int64  \n",
            " 5   population          27820 non-null  int64  \n",
            " 6   suicides/100k pop   27820 non-null  float64\n",
            " 7   country-year        27820 non-null  object \n",
            " 8   HDI for year        8364 non-null   float64\n",
            " 9    gdp_for_year ($)   27820 non-null  object \n",
            " 10  gdp_per_capita ($)  27820 non-null  int64  \n",
            " 11  generation          27820 non-null  object \n",
            "dtypes: float64(2), int64(4), object(6)\n",
            "memory usage: 2.5+ MB\n"
          ],
          "name": "stdout"
        }
      ]
    },
    {
      "cell_type": "markdown",
      "metadata": {
        "id": "IADaWgWBHm3Z",
        "colab_type": "text"
      },
      "source": [
        "# **3. Data Understanding**"
      ]
    },
    {
      "cell_type": "markdown",
      "metadata": {
        "id": "tJJzPS04K5jU",
        "colab_type": "text"
      },
      "source": [
        "We might need to convert columns to the respective datatypes ie. columns we could convert them from string to float. This observation can be made by accessing information about the dataset."
      ]
    },
    {
      "cell_type": "code",
      "metadata": {
        "id": "WQqzooUwHpX1",
        "colab_type": "code",
        "colab": {
          "base_uri": "https://localhost:8080/",
          "height": 340
        },
        "outputId": "49b57534-d86a-4f5b-ae9f-8089fd329cc7"
      },
      "source": [
        "#Getting the information about the dataset\n",
        "\n",
        "df.info()"
      ],
      "execution_count": 5,
      "outputs": [
        {
          "output_type": "stream",
          "text": [
            "<class 'pandas.core.frame.DataFrame'>\n",
            "RangeIndex: 27820 entries, 0 to 27819\n",
            "Data columns (total 12 columns):\n",
            " #   Column              Non-Null Count  Dtype  \n",
            "---  ------              --------------  -----  \n",
            " 0   country             27820 non-null  object \n",
            " 1   year                27820 non-null  int64  \n",
            " 2   sex                 27820 non-null  object \n",
            " 3   age                 27820 non-null  object \n",
            " 4   suicides_no         27820 non-null  int64  \n",
            " 5   population          27820 non-null  int64  \n",
            " 6   suicides/100k pop   27820 non-null  float64\n",
            " 7   country-year        27820 non-null  object \n",
            " 8   HDI for year        8364 non-null   float64\n",
            " 9    gdp_for_year ($)   27820 non-null  object \n",
            " 10  gdp_per_capita ($)  27820 non-null  int64  \n",
            " 11  generation          27820 non-null  object \n",
            "dtypes: float64(2), int64(4), object(6)\n",
            "memory usage: 2.5+ MB\n"
          ],
          "name": "stdout"
        }
      ]
    },
    {
      "cell_type": "markdown",
      "metadata": {
        "id": "ehvQpIOTIGrZ",
        "colab_type": "text"
      },
      "source": [
        "# **4. Data Cleaning**"
      ]
    },
    {
      "cell_type": "markdown",
      "metadata": {
        "id": "N0oLufDBLrs8",
        "colab_type": "text"
      },
      "source": [
        "Let us perform data cleaning procedures below providing a documentation for our actions. We will perform as many data cleaning procedures as we think suitable for the various dimensions of data."
      ]
    },
    {
      "cell_type": "markdown",
      "metadata": {
        "id": "chRL2ROvIMiS",
        "colab_type": "text"
      },
      "source": [
        "**4.1 Validity**"
      ]
    },
    {
      "cell_type": "code",
      "metadata": {
        "id": "cotveP9OIR98",
        "colab_type": "code",
        "colab": {}
      },
      "source": [
        "#dropping the country-year column since we have years and country column\n",
        "df.drop('country-year', axis=1, inplace=True)"
      ],
      "execution_count": 6,
      "outputs": []
    },
    {
      "cell_type": "markdown",
      "metadata": {
        "id": "yM_CHOIFM2ym",
        "colab_type": "text"
      },
      "source": [
        "**4.2 Accuracy**"
      ]
    },
    {
      "cell_type": "code",
      "metadata": {
        "id": "sqnRjA0NM6E1",
        "colab_type": "code",
        "colab": {
          "base_uri": "https://localhost:8080/",
          "height": 34
        },
        "outputId": "9cc3c536-c5f2-44ff-e42b-44b75baa3101"
      },
      "source": [
        "#Checking if there is any missing data without a country \n",
        "df.country.isna().sum()"
      ],
      "execution_count": 7,
      "outputs": [
        {
          "output_type": "execute_result",
          "data": {
            "text/plain": [
              "0"
            ]
          },
          "metadata": {
            "tags": []
          },
          "execution_count": 7
        }
      ]
    },
    {
      "cell_type": "markdown",
      "metadata": {
        "id": "EeVTrca8NiFp",
        "colab_type": "text"
      },
      "source": [
        "**4.3 Completeness**"
      ]
    },
    {
      "cell_type": "code",
      "metadata": {
        "id": "lI6X_JVwNmAi",
        "colab_type": "code",
        "colab": {
          "base_uri": "https://localhost:8080/",
          "height": 221
        },
        "outputId": "eaa75e98-880e-4c77-ef43-9738e78f25df"
      },
      "source": [
        "#identifying the the presence of the missing values\n",
        "df.isna().sum()"
      ],
      "execution_count": 8,
      "outputs": [
        {
          "output_type": "execute_result",
          "data": {
            "text/plain": [
              "country                   0\n",
              "year                      0\n",
              "sex                       0\n",
              "age                       0\n",
              "suicides_no               0\n",
              "population                0\n",
              "suicides/100k pop         0\n",
              "HDI for year          19456\n",
              " gdp_for_year ($)         0\n",
              "gdp_per_capita ($)        0\n",
              "generation                0\n",
              "dtype: int64"
            ]
          },
          "metadata": {
            "tags": []
          },
          "execution_count": 8
        }
      ]
    },
    {
      "cell_type": "code",
      "metadata": {
        "id": "m8xwt_54OBQi",
        "colab_type": "code",
        "colab": {}
      },
      "source": [
        "#dropping the HDI for year since it has most missing values\n",
        "df.drop('HDI for year', axis=1, inplace=True)\n"
      ],
      "execution_count": 9,
      "outputs": []
    },
    {
      "cell_type": "code",
      "metadata": {
        "id": "tzDhWqgsOfma",
        "colab_type": "code",
        "colab": {
          "base_uri": "https://localhost:8080/",
          "height": 204
        },
        "outputId": "4243535f-3d02-4950-8a94-5d93f07f234a"
      },
      "source": [
        "df.head()"
      ],
      "execution_count": 10,
      "outputs": [
        {
          "output_type": "execute_result",
          "data": {
            "text/html": [
              "<div>\n",
              "<style scoped>\n",
              "    .dataframe tbody tr th:only-of-type {\n",
              "        vertical-align: middle;\n",
              "    }\n",
              "\n",
              "    .dataframe tbody tr th {\n",
              "        vertical-align: top;\n",
              "    }\n",
              "\n",
              "    .dataframe thead th {\n",
              "        text-align: right;\n",
              "    }\n",
              "</style>\n",
              "<table border=\"1\" class=\"dataframe\">\n",
              "  <thead>\n",
              "    <tr style=\"text-align: right;\">\n",
              "      <th></th>\n",
              "      <th>country</th>\n",
              "      <th>year</th>\n",
              "      <th>sex</th>\n",
              "      <th>age</th>\n",
              "      <th>suicides_no</th>\n",
              "      <th>population</th>\n",
              "      <th>suicides/100k pop</th>\n",
              "      <th>gdp_for_year ($)</th>\n",
              "      <th>gdp_per_capita ($)</th>\n",
              "      <th>generation</th>\n",
              "    </tr>\n",
              "  </thead>\n",
              "  <tbody>\n",
              "    <tr>\n",
              "      <th>0</th>\n",
              "      <td>Albania</td>\n",
              "      <td>1987</td>\n",
              "      <td>male</td>\n",
              "      <td>15-24 years</td>\n",
              "      <td>21</td>\n",
              "      <td>312900</td>\n",
              "      <td>6.71</td>\n",
              "      <td>2,156,624,900</td>\n",
              "      <td>796</td>\n",
              "      <td>Generation X</td>\n",
              "    </tr>\n",
              "    <tr>\n",
              "      <th>1</th>\n",
              "      <td>Albania</td>\n",
              "      <td>1987</td>\n",
              "      <td>male</td>\n",
              "      <td>35-54 years</td>\n",
              "      <td>16</td>\n",
              "      <td>308000</td>\n",
              "      <td>5.19</td>\n",
              "      <td>2,156,624,900</td>\n",
              "      <td>796</td>\n",
              "      <td>Silent</td>\n",
              "    </tr>\n",
              "    <tr>\n",
              "      <th>2</th>\n",
              "      <td>Albania</td>\n",
              "      <td>1987</td>\n",
              "      <td>female</td>\n",
              "      <td>15-24 years</td>\n",
              "      <td>14</td>\n",
              "      <td>289700</td>\n",
              "      <td>4.83</td>\n",
              "      <td>2,156,624,900</td>\n",
              "      <td>796</td>\n",
              "      <td>Generation X</td>\n",
              "    </tr>\n",
              "    <tr>\n",
              "      <th>3</th>\n",
              "      <td>Albania</td>\n",
              "      <td>1987</td>\n",
              "      <td>male</td>\n",
              "      <td>75+ years</td>\n",
              "      <td>1</td>\n",
              "      <td>21800</td>\n",
              "      <td>4.59</td>\n",
              "      <td>2,156,624,900</td>\n",
              "      <td>796</td>\n",
              "      <td>G.I. Generation</td>\n",
              "    </tr>\n",
              "    <tr>\n",
              "      <th>4</th>\n",
              "      <td>Albania</td>\n",
              "      <td>1987</td>\n",
              "      <td>male</td>\n",
              "      <td>25-34 years</td>\n",
              "      <td>9</td>\n",
              "      <td>274300</td>\n",
              "      <td>3.28</td>\n",
              "      <td>2,156,624,900</td>\n",
              "      <td>796</td>\n",
              "      <td>Boomers</td>\n",
              "    </tr>\n",
              "  </tbody>\n",
              "</table>\n",
              "</div>"
            ],
            "text/plain": [
              "   country  year  ... gdp_per_capita ($)       generation\n",
              "0  Albania  1987  ...                796     Generation X\n",
              "1  Albania  1987  ...                796           Silent\n",
              "2  Albania  1987  ...                796     Generation X\n",
              "3  Albania  1987  ...                796  G.I. Generation\n",
              "4  Albania  1987  ...                796          Boomers\n",
              "\n",
              "[5 rows x 10 columns]"
            ]
          },
          "metadata": {
            "tags": []
          },
          "execution_count": 10
        }
      ]
    },
    {
      "cell_type": "markdown",
      "metadata": {
        "id": "DG4Qlh8zPrMv",
        "colab_type": "text"
      },
      "source": [
        "**4.4 Consistency**"
      ]
    },
    {
      "cell_type": "code",
      "metadata": {
        "id": "wmHHB0p4PwHf",
        "colab_type": "code",
        "colab": {
          "base_uri": "https://localhost:8080/",
          "height": 34
        },
        "outputId": "efcd255c-d03f-4e53-c5cd-017fa4d0b658"
      },
      "source": [
        "#checking for duplicates\n",
        "df.duplicated().sum()"
      ],
      "execution_count": 11,
      "outputs": [
        {
          "output_type": "execute_result",
          "data": {
            "text/plain": [
              "0"
            ]
          },
          "metadata": {
            "tags": []
          },
          "execution_count": 11
        }
      ]
    },
    {
      "cell_type": "markdown",
      "metadata": {
        "id": "iVxsEJ9uP98k",
        "colab_type": "text"
      },
      "source": [
        "**4.5 Uniformity**"
      ]
    },
    {
      "cell_type": "code",
      "metadata": {
        "id": "SfoMFHUR_yVT",
        "colab_type": "code",
        "colab": {
          "base_uri": "https://localhost:8080/",
          "height": 111
        },
        "outputId": "4a5c4c6d-7a8f-4130-83c0-351e8191aec5"
      },
      "source": [
        "#Renaming column 'gdp_for_year ($): Gdp_for\n",
        "#to resolve syntax errors\n",
        "\n",
        "df.columns.values[7] = 'Gdp'\n",
        "\n",
        "#creating variable df1 for the renamed dataset\n",
        "df1 = df.rename(columns= {'country': 'Country', 'year': 'Year', 'sex': 'Sex', 'age': 'Age', \n",
        "                          'suicides_no': 'Suicides_no', 'population': 'Population', 'suicides/100k pop': 'Suicides_per_hundred_thousand_pop', \n",
        "                          'Gdp': 'Gdp_for_year', 'gdp_per_capita ($)': 'Gdp_per_capita', 'generation': 'Generation'})\n",
        "df1.head(2)"
      ],
      "execution_count": 12,
      "outputs": [
        {
          "output_type": "execute_result",
          "data": {
            "text/html": [
              "<div>\n",
              "<style scoped>\n",
              "    .dataframe tbody tr th:only-of-type {\n",
              "        vertical-align: middle;\n",
              "    }\n",
              "\n",
              "    .dataframe tbody tr th {\n",
              "        vertical-align: top;\n",
              "    }\n",
              "\n",
              "    .dataframe thead th {\n",
              "        text-align: right;\n",
              "    }\n",
              "</style>\n",
              "<table border=\"1\" class=\"dataframe\">\n",
              "  <thead>\n",
              "    <tr style=\"text-align: right;\">\n",
              "      <th></th>\n",
              "      <th>Country</th>\n",
              "      <th>Year</th>\n",
              "      <th>Sex</th>\n",
              "      <th>Age</th>\n",
              "      <th>Suicides_no</th>\n",
              "      <th>Population</th>\n",
              "      <th>Suicides_per_hundred_thousand_pop</th>\n",
              "      <th>Gdp_for_year</th>\n",
              "      <th>Gdp_per_capita</th>\n",
              "      <th>Generation</th>\n",
              "    </tr>\n",
              "  </thead>\n",
              "  <tbody>\n",
              "    <tr>\n",
              "      <th>0</th>\n",
              "      <td>Albania</td>\n",
              "      <td>1987</td>\n",
              "      <td>male</td>\n",
              "      <td>15-24 years</td>\n",
              "      <td>21</td>\n",
              "      <td>312900</td>\n",
              "      <td>6.71</td>\n",
              "      <td>2,156,624,900</td>\n",
              "      <td>796</td>\n",
              "      <td>Generation X</td>\n",
              "    </tr>\n",
              "    <tr>\n",
              "      <th>1</th>\n",
              "      <td>Albania</td>\n",
              "      <td>1987</td>\n",
              "      <td>male</td>\n",
              "      <td>35-54 years</td>\n",
              "      <td>16</td>\n",
              "      <td>308000</td>\n",
              "      <td>5.19</td>\n",
              "      <td>2,156,624,900</td>\n",
              "      <td>796</td>\n",
              "      <td>Silent</td>\n",
              "    </tr>\n",
              "  </tbody>\n",
              "</table>\n",
              "</div>"
            ],
            "text/plain": [
              "   Country  Year   Sex  ...   Gdp_for_year  Gdp_per_capita    Generation\n",
              "0  Albania  1987  male  ...  2,156,624,900             796  Generation X\n",
              "1  Albania  1987  male  ...  2,156,624,900             796        Silent\n",
              "\n",
              "[2 rows x 10 columns]"
            ]
          },
          "metadata": {
            "tags": []
          },
          "execution_count": 12
        }
      ]
    },
    {
      "cell_type": "code",
      "metadata": {
        "id": "0gGTv4BwPNkj",
        "colab_type": "code",
        "colab": {
          "base_uri": "https://localhost:8080/",
          "height": 142
        },
        "outputId": "c5617c57-25f3-4e66-aa5c-9400ca65f485"
      },
      "source": [
        "#Changing the datatype of the column Gdp_for_year and removing the commas\n",
        "df1['Gdp_for_year']=df1['Gdp_for_year'].str.replace(',','').astype('float')\n",
        "df1.head(3)"
      ],
      "execution_count": 13,
      "outputs": [
        {
          "output_type": "execute_result",
          "data": {
            "text/html": [
              "<div>\n",
              "<style scoped>\n",
              "    .dataframe tbody tr th:only-of-type {\n",
              "        vertical-align: middle;\n",
              "    }\n",
              "\n",
              "    .dataframe tbody tr th {\n",
              "        vertical-align: top;\n",
              "    }\n",
              "\n",
              "    .dataframe thead th {\n",
              "        text-align: right;\n",
              "    }\n",
              "</style>\n",
              "<table border=\"1\" class=\"dataframe\">\n",
              "  <thead>\n",
              "    <tr style=\"text-align: right;\">\n",
              "      <th></th>\n",
              "      <th>Country</th>\n",
              "      <th>Year</th>\n",
              "      <th>Sex</th>\n",
              "      <th>Age</th>\n",
              "      <th>Suicides_no</th>\n",
              "      <th>Population</th>\n",
              "      <th>Suicides_per_hundred_thousand_pop</th>\n",
              "      <th>Gdp_for_year</th>\n",
              "      <th>Gdp_per_capita</th>\n",
              "      <th>Generation</th>\n",
              "    </tr>\n",
              "  </thead>\n",
              "  <tbody>\n",
              "    <tr>\n",
              "      <th>0</th>\n",
              "      <td>Albania</td>\n",
              "      <td>1987</td>\n",
              "      <td>male</td>\n",
              "      <td>15-24 years</td>\n",
              "      <td>21</td>\n",
              "      <td>312900</td>\n",
              "      <td>6.71</td>\n",
              "      <td>2.156625e+09</td>\n",
              "      <td>796</td>\n",
              "      <td>Generation X</td>\n",
              "    </tr>\n",
              "    <tr>\n",
              "      <th>1</th>\n",
              "      <td>Albania</td>\n",
              "      <td>1987</td>\n",
              "      <td>male</td>\n",
              "      <td>35-54 years</td>\n",
              "      <td>16</td>\n",
              "      <td>308000</td>\n",
              "      <td>5.19</td>\n",
              "      <td>2.156625e+09</td>\n",
              "      <td>796</td>\n",
              "      <td>Silent</td>\n",
              "    </tr>\n",
              "    <tr>\n",
              "      <th>2</th>\n",
              "      <td>Albania</td>\n",
              "      <td>1987</td>\n",
              "      <td>female</td>\n",
              "      <td>15-24 years</td>\n",
              "      <td>14</td>\n",
              "      <td>289700</td>\n",
              "      <td>4.83</td>\n",
              "      <td>2.156625e+09</td>\n",
              "      <td>796</td>\n",
              "      <td>Generation X</td>\n",
              "    </tr>\n",
              "  </tbody>\n",
              "</table>\n",
              "</div>"
            ],
            "text/plain": [
              "   Country  Year     Sex  ...  Gdp_for_year  Gdp_per_capita    Generation\n",
              "0  Albania  1987    male  ...  2.156625e+09             796  Generation X\n",
              "1  Albania  1987    male  ...  2.156625e+09             796        Silent\n",
              "2  Albania  1987  female  ...  2.156625e+09             796  Generation X\n",
              "\n",
              "[3 rows x 10 columns]"
            ]
          },
          "metadata": {
            "tags": []
          },
          "execution_count": 13
        }
      ]
    },
    {
      "cell_type": "markdown",
      "metadata": {
        "id": "rho37As3sIWW",
        "colab_type": "text"
      },
      "source": [
        "# **5. Outliers**"
      ]
    },
    {
      "cell_type": "code",
      "metadata": {
        "id": "Ecm7IzbEsPUY",
        "colab_type": "code",
        "colab": {
          "base_uri": "https://localhost:8080/",
          "height": 468
        },
        "outputId": "5586117b-d564-4551-9c82-e2f7254c00eb"
      },
      "source": [
        "#Checking for outliers in the Suicides column based on the Countries\n",
        "import seaborn as sns\n",
        "import matplotlib.pyplot as plt\n",
        "\n",
        "plt.figure(figsize=(30,10))\n",
        "sns.boxplot(y='Suicides_no', x='Country', \n",
        "                 data=df1, \n",
        "                 palette=\"colorblind\",\n",
        "                 )"
      ],
      "execution_count": 14,
      "outputs": [
        {
          "output_type": "stream",
          "text": [
            "/usr/local/lib/python3.6/dist-packages/statsmodels/tools/_testing.py:19: FutureWarning: pandas.util.testing is deprecated. Use the functions in the public API at pandas.testing instead.\n",
            "  import pandas.util.testing as tm\n"
          ],
          "name": "stderr"
        },
        {
          "output_type": "execute_result",
          "data": {
            "text/plain": [
              "<matplotlib.axes._subplots.AxesSubplot at 0x7f9d1667a9e8>"
            ]
          },
          "metadata": {
            "tags": []
          },
          "execution_count": 14
        },
        {
          "output_type": "display_data",
          "data": {
            "image/png": "[encoded data removed]",
            "text/plain": [
              "<Figure size 2160x720 with 1 Axes>"
            ]
          },
          "metadata": {
            "tags": [],
            "needs_background": "light"
          }
        }
      ]
    },
    {
      "cell_type": "code",
      "metadata": {
        "id": "-oEbKU8ovzZ9",
        "colab_type": "code",
        "colab": {
          "base_uri": "https://localhost:8080/",
          "height": 34
        },
        "outputId": "d2453e95-ea79-4caf-b6da-aed0bb9a112a"
      },
      "source": [
        "#Removing outliers from the Suicides_no columns that is, the extreme cases\n",
        "df1.Suicides_no.astype = float\n",
        "Q1 = df1['Suicides_no'].quantile(0.25)\n",
        "Q3 = df1['Suicides_no'].quantile(0.75)\n",
        "IQR = Q3 - Q1    #IQR is interquartile range. \n",
        "\n",
        "filter = (df1['Suicides_no'] >= Q1 - 1.5 * IQR) & (df1['Suicides_no'] <= Q3 + 1.5 *IQR)\n",
        "\n",
        "# creating variable dfz for the removed outliers from the suicide column\n",
        "dfz = df1.loc[filter]\n",
        "dfz.shape\n"
      ],
      "execution_count": 15,
      "outputs": [
        {
          "output_type": "execute_result",
          "data": {
            "text/plain": [
              "(23911, 10)"
            ]
          },
          "metadata": {
            "tags": []
          },
          "execution_count": 15
        }
      ]
    },
    {
      "cell_type": "code",
      "metadata": {
        "id": "WCW_nCkPw2DH",
        "colab_type": "code",
        "colab": {
          "base_uri": "https://localhost:8080/",
          "height": 600
        },
        "outputId": "d442260b-534d-450c-915c-9aaa028b110a"
      },
      "source": [
        "#Checking for outliears in the Gdp_for_year colunn based on the Countries if any\n",
        "plt.figure(figsize=(30,15))\n",
        "sns.boxplot(y='Gdp_for_year', x='Country', \n",
        "                 data=dfz, \n",
        "                 palette=\"colorblind\",\n",
        "                 )"
      ],
      "execution_count": 16,
      "outputs": [
        {
          "output_type": "execute_result",
          "data": {
            "text/plain": [
              "<matplotlib.axes._subplots.AxesSubplot at 0x7f9d23e610f0>"
            ]
          },
          "metadata": {
            "tags": []
          },
          "execution_count": 16
        },
        {
          "output_type": "display_data",
          "data": {
            "image/png": "[encoded data removed]",
            "text/plain": [
              "<Figure size 2160x1080 with 1 Axes>"
            ]
          },
          "metadata": {
            "tags": [],
            "needs_background": "light"
          }
        }
      ]
    },
    {
      "cell_type": "code",
      "metadata": {
        "id": "y4CNeBaRB1g8",
        "colab_type": "code",
        "colab": {
          "base_uri": "https://localhost:8080/",
          "height": 34
        },
        "outputId": "fc45081e-0790-43d5-8106-c1259b9fafa5"
      },
      "source": [
        "#Removing outliers from the Gdp_for_year columns that is, the extreme cases\n",
        "Q1 = dfz['Gdp_for_year'].quantile(0.25)\n",
        "Q3 = dfz['Gdp_for_year'].quantile(0.75)\n",
        "IQR = Q3 - Q1    #IQR is interquartile range. \n",
        "\n",
        "filter = (dfz['Gdp_for_year'] >= Q1 - 1.5 * IQR) & (dfz['Gdp_for_year'] <= Q3 + 1.5 *IQR)\n",
        "\n",
        "# creating variable dfq for the removed outliers from the suicide column\n",
        "dfq = dfz.loc[filter]\n",
        "dfq.shape"
      ],
      "execution_count": 17,
      "outputs": [
        {
          "output_type": "execute_result",
          "data": {
            "text/plain": [
              "(21306, 10)"
            ]
          },
          "metadata": {
            "tags": []
          },
          "execution_count": 17
        }
      ]
    },
    {
      "cell_type": "code",
      "metadata": {
        "id": "DLfzFv3pzPwj",
        "colab_type": "code",
        "colab": {
          "base_uri": "https://localhost:8080/",
          "height": 588
        },
        "outputId": "25dfeecb-3e16-4d0a-9313-050bd48c5bb1"
      },
      "source": [
        "#Checking for outliers in the Gdp_per_capita colunn based on the Countries if there is any\n",
        "plt.figure(figsize=(30,15))\n",
        "sns.boxplot(y='Gdp_per_capita', x='Country', \n",
        "                 data=dfq, \n",
        "                 palette=\"colorblind\",\n",
        "                 )"
      ],
      "execution_count": 18,
      "outputs": [
        {
          "output_type": "execute_result",
          "data": {
            "text/plain": [
              "<matplotlib.axes._subplots.AxesSubplot at 0x7f9d21979828>"
            ]
          },
          "metadata": {
            "tags": []
          },
          "execution_count": 18
        },
        {
          "output_type": "display_data",
          "data": {
            "image/png": "[encoded data removed]",
            "text/plain": [
              "<Figure size 2160x1080 with 1 Axes>"
            ]
          },
          "metadata": {
            "tags": [],
            "needs_background": "light"
          }
        }
      ]
    },
    {
      "cell_type": "code",
      "metadata": {
        "id": "YeNn8YKWBVNB",
        "colab_type": "code",
        "colab": {
          "base_uri": "https://localhost:8080/",
          "height": 34
        },
        "outputId": "dfc872b4-d383-4a59-9b24-de705aaec48c"
      },
      "source": [
        "#Removing outliers from the Gdp_per_capita columns that is, the extreme cases\n",
        "Q1 = dfq['Gdp_per_capita'].quantile(0.25)\n",
        "Q3 = dfq['Gdp_per_capita'].quantile(0.75)\n",
        "IQR = Q3 - Q1    #IQR is interquartile range. \n",
        "\n",
        "filter = (dfq['Gdp_per_capita'] >= Q1 - 1.5 * IQR) & (dfq['Gdp_per_capita'] <= Q3 + 1.5 *IQR)\n",
        "\n",
        "# creating variable df2 for the removed outliers from the suicide column\n",
        "df2 = dfq.loc[filter]\n",
        "df2.shape"
      ],
      "execution_count": 19,
      "outputs": [
        {
          "output_type": "execute_result",
          "data": {
            "text/plain": [
              "(19808, 10)"
            ]
          },
          "metadata": {
            "tags": []
          },
          "execution_count": 19
        }
      ]
    },
    {
      "cell_type": "code",
      "metadata": {
        "id": "V8ZVLsp5cquR",
        "colab_type": "code",
        "colab": {
          "base_uri": "https://localhost:8080/",
          "height": 34
        },
        "outputId": "e5ea60f0-d28c-49b0-9cb9-529af4bad7ed"
      },
      "source": [
        "#The original data shape before dropping the outliers\n",
        "df1.shape"
      ],
      "execution_count": 20,
      "outputs": [
        {
          "output_type": "execute_result",
          "data": {
            "text/plain": [
              "(27820, 10)"
            ]
          },
          "metadata": {
            "tags": []
          },
          "execution_count": 20
        }
      ]
    },
    {
      "cell_type": "code",
      "metadata": {
        "id": "Vk0mnc3Luzvy",
        "colab_type": "code",
        "colab": {
          "base_uri": "https://localhost:8080/",
          "height": 247
        },
        "outputId": "c95f440c-7650-4dbf-f3f5-0600428d569f"
      },
      "source": [
        "#Creating a new column to calculate the rate of suicides per generation \n",
        "df2['Suicide_rate'] = (df2['Suicides_no']/df2['Population']*100)\n",
        "df2.head(2)"
      ],
      "execution_count": 21,
      "outputs": [
        {
          "output_type": "stream",
          "text": [
            "/usr/local/lib/python3.6/dist-packages/ipykernel_launcher.py:2: SettingWithCopyWarning: \n",
            "A value is trying to be set on a copy of a slice from a DataFrame.\n",
            "Try using .loc[row_indexer,col_indexer] = value instead\n",
            "\n",
            "See the caveats in the documentation: https://pandas.pydata.org/pandas-docs/stable/user_guide/indexing.html#returning-a-view-versus-a-copy\n",
            "  \n"
          ],
          "name": "stderr"
        },
        {
          "output_type": "execute_result",
          "data": {
            "text/html": [
              "<div>\n",
              "<style scoped>\n",
              "    .dataframe tbody tr th:only-of-type {\n",
              "        vertical-align: middle;\n",
              "    }\n",
              "\n",
              "    .dataframe tbody tr th {\n",
              "        vertical-align: top;\n",
              "    }\n",
              "\n",
              "    .dataframe thead th {\n",
              "        text-align: right;\n",
              "    }\n",
              "</style>\n",
              "<table border=\"1\" class=\"dataframe\">\n",
              "  <thead>\n",
              "    <tr style=\"text-align: right;\">\n",
              "      <th></th>\n",
              "      <th>Country</th>\n",
              "      <th>Year</th>\n",
              "      <th>Sex</th>\n",
              "      <th>Age</th>\n",
              "      <th>Suicides_no</th>\n",
              "      <th>Population</th>\n",
              "      <th>Suicides_per_hundred_thousand_pop</th>\n",
              "      <th>Gdp_for_year</th>\n",
              "      <th>Gdp_per_capita</th>\n",
              "      <th>Generation</th>\n",
              "      <th>Suicide_rate</th>\n",
              "    </tr>\n",
              "  </thead>\n",
              "  <tbody>\n",
              "    <tr>\n",
              "      <th>0</th>\n",
              "      <td>Albania</td>\n",
              "      <td>1987</td>\n",
              "      <td>male</td>\n",
              "      <td>15-24 years</td>\n",
              "      <td>21</td>\n",
              "      <td>312900</td>\n",
              "      <td>6.71</td>\n",
              "      <td>2.156625e+09</td>\n",
              "      <td>796</td>\n",
              "      <td>Generation X</td>\n",
              "      <td>0.006711</td>\n",
              "    </tr>\n",
              "    <tr>\n",
              "      <th>1</th>\n",
              "      <td>Albania</td>\n",
              "      <td>1987</td>\n",
              "      <td>male</td>\n",
              "      <td>35-54 years</td>\n",
              "      <td>16</td>\n",
              "      <td>308000</td>\n",
              "      <td>5.19</td>\n",
              "      <td>2.156625e+09</td>\n",
              "      <td>796</td>\n",
              "      <td>Silent</td>\n",
              "      <td>0.005195</td>\n",
              "    </tr>\n",
              "  </tbody>\n",
              "</table>\n",
              "</div>"
            ],
            "text/plain": [
              "   Country  Year   Sex  ... Gdp_per_capita    Generation  Suicide_rate\n",
              "0  Albania  1987  male  ...            796  Generation X      0.006711\n",
              "1  Albania  1987  male  ...            796        Silent      0.005195\n",
              "\n",
              "[2 rows x 11 columns]"
            ]
          },
          "metadata": {
            "tags": []
          },
          "execution_count": 21
        }
      ]
    },
    {
      "cell_type": "markdown",
      "metadata": {
        "id": "ie_riCAnuafi",
        "colab_type": "text"
      },
      "source": [
        "## **6. Exporting cleaned dataset to CSV**"
      ]
    },
    {
      "cell_type": "code",
      "metadata": {
        "id": "POvYMkE2um4-",
        "colab_type": "code",
        "colab": {}
      },
      "source": [
        "df2.to_csv('Suicide.csv')"
      ],
      "execution_count": 22,
      "outputs": []
    },
    {
      "cell_type": "markdown",
      "metadata": {
        "id": "tGsCKZgf1TE2",
        "colab_type": "text"
      },
      "source": [
        "# **7. Analytics**"
      ]
    },
    {
      "cell_type": "code",
      "metadata": {
        "id": "DmrJzRhn1fX4",
        "colab_type": "code",
        "colab": {
          "base_uri": "https://localhost:8080/",
          "height": 136
        },
        "outputId": "ca5223d5-0d5d-4037-de24-451d92c8b969"
      },
      "source": [
        "#1. identifying top 5 countries with the highest suicide cases in the world overall\n",
        "df3 = df2.groupby(['Country'])['Suicides_no'].sum().sort_values(ascending = False)\n",
        "df3.head()\n"
      ],
      "execution_count": 23,
      "outputs": [
        {
          "output_type": "execute_result",
          "data": {
            "text/plain": [
              "Country\n",
              "Bulgaria    31114\n",
              "Hungary     30122\n",
              "Chile       30111\n",
              "Colombia    28094\n",
              "Romania     27161\n",
              "Name: Suicides_no, dtype: int64"
            ]
          },
          "metadata": {
            "tags": []
          },
          "execution_count": 23
        }
      ]
    },
    {
      "cell_type": "code",
      "metadata": {
        "id": "rJq3Ou6TST7J",
        "colab_type": "code",
        "colab": {
          "base_uri": "https://localhost:8080/",
          "height": 337
        },
        "outputId": "18358bbf-d360-4170-8307-317e2dd5c2da"
      },
      "source": [
        "#plotting the scatter plot of the country with the most suicide cases \n",
        "df4b = df2.loc[df2['Country'] == 'Bulgaria']\n",
        "plt.figure(figsize=(15,5))\n",
        "plt.scatter(df4b.Year, df4b.Suicides_no)"
      ],
      "execution_count": 24,
      "outputs": [
        {
          "output_type": "execute_result",
          "data": {
            "text/plain": [
              "<matplotlib.collections.PathCollection at 0x7f9d150d9f98>"
            ]
          },
          "metadata": {
            "tags": []
          },
          "execution_count": 24
        },
        {
          "output_type": "display_data",
          "data": {
            "image/png": "[encoded data removed]",
            "text/plain": [
              "<Figure size 1080x360 with 1 Axes>"
            ]
          },
          "metadata": {
            "tags": [],
            "needs_background": "light"
          }
        }
      ]
    },
    {
      "cell_type": "code",
      "metadata": {
        "id": "qvQ3w4Ou3yfg",
        "colab_type": "code",
        "colab": {
          "base_uri": "https://localhost:8080/",
          "height": 221
        },
        "outputId": "addfc5dc-741e-4f80-b29d-1973d916ae30"
      },
      "source": [
        "#2. identifying top 5 countries with the lowest suicide cases in the world on overall\n",
        "dfw = df2.groupby(['Country'])['Suicides_no'].sum()\n",
        "dfd = dfw.sort_values(ascending = True)\n",
        "dfd.head(10)"
      ],
      "execution_count": 25,
      "outputs": [
        {
          "output_type": "execute_result",
          "data": {
            "text/plain": [
              "Country\n",
              "Dominica                  0\n",
              "Saint Kitts and Nevis     0\n",
              "San Marino                1\n",
              "Antigua and Barbuda      11\n",
              "Maldives                 20\n",
              "Qatar                    23\n",
              "Macau                    27\n",
              "Oman                     33\n",
              "Grenada                  38\n",
              "Cabo Verde               42\n",
              "Name: Suicides_no, dtype: int64"
            ]
          },
          "metadata": {
            "tags": []
          },
          "execution_count": 25
        }
      ]
    },
    {
      "cell_type": "code",
      "metadata": {
        "id": "TF_jEiPb3_Yj",
        "colab_type": "code",
        "colab": {
          "base_uri": "https://localhost:8080/",
          "height": 136
        },
        "outputId": "96d4ee09-326c-468e-92bf-cac36e159e1e"
      },
      "source": [
        "#3(a). identifying the generation with the highest suicide cases on Overall \n",
        "df4 = df2.groupby(['Generation'])['Suicide_rate'].sum()\n",
        "df4 = df4.sort_values(ascending = False)\n",
        "df4.head()"
      ],
      "execution_count": 26,
      "outputs": [
        {
          "output_type": "execute_result",
          "data": {
            "text/plain": [
              "Generation\n",
              "Silent             68.981965\n",
              "G.I. Generation    48.559870\n",
              "Generation X       41.461185\n",
              "Boomers            36.591157\n",
              "Millenials         18.740245\n",
              "Name: Suicide_rate, dtype: float64"
            ]
          },
          "metadata": {
            "tags": []
          },
          "execution_count": 26
        }
      ]
    },
    {
      "cell_type": "code",
      "metadata": {
        "id": "TkGp_cXuUFRK",
        "colab_type": "code",
        "colab": {
          "base_uri": "https://localhost:8080/",
          "height": 136
        },
        "outputId": "94c80568-e8f8-4f3e-8bad-5879ff77c716"
      },
      "source": [
        "#3(b). identifying the generation with the highest suicide cases before 2000\n",
        "dfzx = df2.loc[df2['Year'] < 2000]\n",
        "dfgh = dfzx.groupby(['Generation'])['Suicide_rate'].sum().sort_values(ascending = False)\n",
        "dfgh"
      ],
      "execution_count": 27,
      "outputs": [
        {
          "output_type": "execute_result",
          "data": {
            "text/plain": [
              "Generation\n",
              "G.I. Generation    45.037588\n",
              "Generation X       21.152026\n",
              "Boomers            19.620954\n",
              "Silent             17.476758\n",
              "Millenials          0.738956\n",
              "Name: Suicide_rate, dtype: float64"
            ]
          },
          "metadata": {
            "tags": []
          },
          "execution_count": 27
        }
      ]
    },
    {
      "cell_type": "code",
      "metadata": {
        "id": "IBftoOb5Uove",
        "colab_type": "code",
        "colab": {
          "base_uri": "https://localhost:8080/",
          "height": 136
        },
        "outputId": "8e09c813-6c4b-42bb-cdc1-95f53585ab7b"
      },
      "source": [
        "#3(c). identifying the generation with the highest suicide cases after 2000\n",
        "dfzx2 = df2.loc[df2['Year'] >= 2000]\n",
        "dfgh = dfzx2.groupby(['Generation'])['Suicide_rate'].sum()\n",
        "dfgh = dfgh.sort_values(ascending = False)\n",
        "dfgh.head()"
      ],
      "execution_count": 28,
      "outputs": [
        {
          "output_type": "execute_result",
          "data": {
            "text/plain": [
              "Generation\n",
              "Silent             51.505206\n",
              "Generation X       20.309159\n",
              "Millenials         18.001289\n",
              "Boomers            16.970203\n",
              "G.I. Generation     3.522282\n",
              "Name: Suicide_rate, dtype: float64"
            ]
          },
          "metadata": {
            "tags": []
          },
          "execution_count": 28
        }
      ]
    },
    {
      "cell_type": "code",
      "metadata": {
        "id": "JegKPl8yQWV8",
        "colab_type": "code",
        "colab": {
          "base_uri": "https://localhost:8080/",
          "height": 337
        },
        "outputId": "b441d5f3-070d-4d49-acc1-9c47f79a5c13"
      },
      "source": [
        "#plotting the bar graph of the generation with the most suicide cases after 2000\n",
        "dfy = dfzx2.loc[df2['Generation'] == 'Silent']\n",
        "plt.figure(figsize=(15,5))\n",
        "plt.bar(dfy.Year, dfy.Suicide_rate)"
      ],
      "execution_count": 29,
      "outputs": [
        {
          "output_type": "execute_result",
          "data": {
            "text/plain": [
              "<BarContainer object of 3025 artists>"
            ]
          },
          "metadata": {
            "tags": []
          },
          "execution_count": 29
        },
        {
          "output_type": "display_data",
          "data": {
            "image/png": "[encoded data removed]",
            "text/plain": [
              "<Figure size 1080x360 with 1 Axes>"
            ]
          },
          "metadata": {
            "tags": [],
            "needs_background": "light"
          }
        }
      ]
    },
    {
      "cell_type": "code",
      "metadata": {
        "id": "P1kmGdVU4knX",
        "colab_type": "code",
        "colab": {
          "base_uri": "https://localhost:8080/",
          "height": 136
        },
        "outputId": "71ba86cc-9eee-461c-8e95-8e38d16a7ab7"
      },
      "source": [
        "#4(a). identifying the generations with the lowest suicide cases on overall\n",
        "dfr = df2.groupby(['Generation'])['Suicide_rate'].sum()\n",
        "dfr = df4.sort_values(ascending = True)\n",
        "dfr.head()"
      ],
      "execution_count": 30,
      "outputs": [
        {
          "output_type": "execute_result",
          "data": {
            "text/plain": [
              "Generation\n",
              "Generation Z        0.694169\n",
              "Millenials         18.740245\n",
              "Boomers            36.591157\n",
              "Generation X       41.461185\n",
              "G.I. Generation    48.559870\n",
              "Name: Suicide_rate, dtype: float64"
            ]
          },
          "metadata": {
            "tags": []
          },
          "execution_count": 30
        }
      ]
    },
    {
      "cell_type": "code",
      "metadata": {
        "id": "ipJnCc1Px7vn",
        "colab_type": "code",
        "colab": {
          "base_uri": "https://localhost:8080/",
          "height": 136
        },
        "outputId": "031d2b24-cd62-41ff-e3dc-8935d32569b6"
      },
      "source": [
        "#4(b). identifying the generation with the lowest suicide cases before 2000\n",
        "dfzx = df2.loc[df2['Year'] < 2000]\n",
        "dfgh = dfzx.groupby(['Generation'])['Suicide_rate'].sum()\n",
        "dfgh = dfgh.sort_values(ascending = True)\n",
        "dfgh.head()"
      ],
      "execution_count": 31,
      "outputs": [
        {
          "output_type": "execute_result",
          "data": {
            "text/plain": [
              "Generation\n",
              "Millenials          0.738956\n",
              "Silent             17.476758\n",
              "Boomers            19.620954\n",
              "Generation X       21.152026\n",
              "G.I. Generation    45.037588\n",
              "Name: Suicide_rate, dtype: float64"
            ]
          },
          "metadata": {
            "tags": []
          },
          "execution_count": 31
        }
      ]
    },
    {
      "cell_type": "code",
      "metadata": {
        "id": "hwt0ln93yPxW",
        "colab_type": "code",
        "colab": {
          "base_uri": "https://localhost:8080/",
          "height": 136
        },
        "outputId": "eb794439-4aac-4b46-93fe-5792fcffadce"
      },
      "source": [
        "#4(c). identifying the generation with the lowest suicide cases after 2000\n",
        "dfzx = df2.loc[df2['Year'] >= 2000]\n",
        "dfgh = dfzx.groupby(['Generation'])['Suicide_rate'].sum()\n",
        "dfgh = dfgh.sort_values(ascending = True)\n",
        "dfgh.head()"
      ],
      "execution_count": 32,
      "outputs": [
        {
          "output_type": "execute_result",
          "data": {
            "text/plain": [
              "Generation\n",
              "Generation Z        0.694169\n",
              "G.I. Generation     3.522282\n",
              "Boomers            16.970203\n",
              "Millenials         18.001289\n",
              "Generation X       20.309159\n",
              "Name: Suicide_rate, dtype: float64"
            ]
          },
          "metadata": {
            "tags": []
          },
          "execution_count": 32
        }
      ]
    },
    {
      "cell_type": "code",
      "metadata": {
        "id": "C5AYWNjS44De",
        "colab_type": "code",
        "colab": {
          "base_uri": "https://localhost:8080/",
          "height": 85
        },
        "outputId": "6980f2c3-f0e7-4d0b-dca0-40a5a49f6487"
      },
      "source": [
        "#5(a) Investigating which gender has more suicide rates compared to the other one on overall\n",
        "df5 = df2.groupby(['Sex'])['Suicides_no'].sum()\n",
        "df5 = df5.sort_values(ascending = False)\n",
        "df5.head()"
      ],
      "execution_count": 33,
      "outputs": [
        {
          "output_type": "execute_result",
          "data": {
            "text/plain": [
              "Sex\n",
              "male      498619\n",
              "female    329940\n",
              "Name: Suicides_no, dtype: int64"
            ]
          },
          "metadata": {
            "tags": []
          },
          "execution_count": 33
        }
      ]
    },
    {
      "cell_type": "code",
      "metadata": {
        "id": "bICBMo51NjFE",
        "colab_type": "code",
        "colab": {
          "base_uri": "https://localhost:8080/",
          "height": 341
        },
        "outputId": "5eb1c9ae-7c93-4a0e-8b66-0fef117ffe6b"
      },
      "source": [
        "#plotting for the female suicide cases scross different years on overall\n",
        "dfg = df2.loc[df2['Sex'] == 'female']\n",
        "plt.figure(figsize=(15,5))\n",
        "plt.bar(dfg.Year, dfg.Suicide_rate)"
      ],
      "execution_count": 34,
      "outputs": [
        {
          "output_type": "execute_result",
          "data": {
            "text/plain": [
              "<BarContainer object of 10452 artists>"
            ]
          },
          "metadata": {
            "tags": []
          },
          "execution_count": 34
        },
        {
          "output_type": "display_data",
          "data": {
            "image/png": "[encoded data removed]",
            "text/plain": [
              "<Figure size 1080x360 with 1 Axes>"
            ]
          },
          "metadata": {
            "tags": [],
            "needs_background": "light"
          }
        }
      ]
    },
    {
      "cell_type": "code",
      "metadata": {
        "id": "0s55VdqfOrp1",
        "colab_type": "code",
        "colab": {
          "base_uri": "https://localhost:8080/",
          "height": 337
        },
        "outputId": "807e4e92-07c5-42ea-9832-8bb143b025eb"
      },
      "source": [
        "#plotting for the male suicide cases scross different years on overall\n",
        "dfp = df2.loc[df2['Sex'] == 'male']\n",
        "plt.figure(figsize=(15,5))\n",
        "plt.bar(dfp.Year, dfp.Suicide_rate)"
      ],
      "execution_count": 35,
      "outputs": [
        {
          "output_type": "execute_result",
          "data": {
            "text/plain": [
              "<BarContainer object of 9356 artists>"
            ]
          },
          "metadata": {
            "tags": []
          },
          "execution_count": 35
        },
        {
          "output_type": "display_data",
          "data": {
            "image/png": "[encoded data removed]",
            "text/plain": [
              "<Figure size 1080x360 with 1 Axes>"
            ]
          },
          "metadata": {
            "tags": [],
            "needs_background": "light"
          }
        }
      ]
    },
    {
      "cell_type": "code",
      "metadata": {
        "id": "XBeMtik05Qax",
        "colab_type": "code",
        "colab": {
          "base_uri": "https://localhost:8080/",
          "height": 136
        },
        "outputId": "32dfa6ff-9f3c-405a-9d81-5cacc77c98b3"
      },
      "source": [
        "#6(a). Knowing the age group which most people commit suicide on overall\n",
        "df6 = df2.groupby(['Age'])['Suicide_rate'].sum()\n",
        "df6 = df6.sort_values(ascending = False)\n",
        "df6.head()"
      ],
      "execution_count": 36,
      "outputs": [
        {
          "output_type": "execute_result",
          "data": {
            "text/plain": [
              "Age\n",
              "75+ years      77.855515\n",
              "55-74 years    40.175535\n",
              "25-34 years    35.094635\n",
              "35-54 years    32.224815\n",
              "15-24 years    27.357974\n",
              "Name: Suicide_rate, dtype: float64"
            ]
          },
          "metadata": {
            "tags": []
          },
          "execution_count": 36
        }
      ]
    },
    {
      "cell_type": "code",
      "metadata": {
        "id": "q7YiWnwmzeG4",
        "colab_type": "code",
        "colab": {
          "base_uri": "https://localhost:8080/",
          "height": 136
        },
        "outputId": "1f24b7d9-5bc9-49cf-d50f-1fe0a975f544"
      },
      "source": [
        "#6(b). Knowing the age group which most people commit suicide before 2000\n",
        "dfzx = df2.loc[df2['Year'] < 2000]\n",
        "df6 = dfzx.groupby(['Age'])['Suicide_rate'].sum()\n",
        "df6 = df6.sort_values(ascending = False)\n",
        "df6.head()\n"
      ],
      "execution_count": 37,
      "outputs": [
        {
          "output_type": "execute_result",
          "data": {
            "text/plain": [
              "Age\n",
              "75+ years      38.995888\n",
              "55-74 years    18.919981\n",
              "25-34 years    16.844746\n",
              "35-54 years    14.903013\n",
              "15-24 years    13.345601\n",
              "Name: Suicide_rate, dtype: float64"
            ]
          },
          "metadata": {
            "tags": []
          },
          "execution_count": 37
        }
      ]
    },
    {
      "cell_type": "code",
      "metadata": {
        "id": "kMaGhfwUz5YK",
        "colab_type": "code",
        "colab": {
          "base_uri": "https://localhost:8080/",
          "height": 136
        },
        "outputId": "6cb964fb-82a1-459c-dafc-96f2f28fd7b4"
      },
      "source": [
        "#6(c). Knowing the age group which most people commit suicide after 2000\n",
        "dfzx = df2.loc[df2['Year'] >= 2000]\n",
        "df6 = dfzx.groupby(['Age'])['Suicide_rate'].sum()\n",
        "df6 = df6.sort_values(ascending = False)\n",
        "df6.head()"
      ],
      "execution_count": 38,
      "outputs": [
        {
          "output_type": "execute_result",
          "data": {
            "text/plain": [
              "Age\n",
              "75+ years      38.859627\n",
              "55-74 years    21.255554\n",
              "25-34 years    18.249889\n",
              "35-54 years    17.321802\n",
              "15-24 years    14.012373\n",
              "Name: Suicide_rate, dtype: float64"
            ]
          },
          "metadata": {
            "tags": []
          },
          "execution_count": 38
        }
      ]
    },
    {
      "cell_type": "code",
      "metadata": {
        "id": "6gEpBQcX6AQm",
        "colab_type": "code",
        "colab": {
          "base_uri": "https://localhost:8080/",
          "height": 136
        },
        "outputId": "1b1d07ea-336f-49f5-c75d-344f5fb977a7"
      },
      "source": [
        "#7. Finding out the year where people committed suicide the most on overall\n",
        "df7 = df2.groupby(['Year'])['Suicides_no'].sum()\n",
        "df7 = df7.sort_values(ascending = False)\n",
        "df7.head()"
      ],
      "execution_count": 39,
      "outputs": [
        {
          "output_type": "execute_result",
          "data": {
            "text/plain": [
              "Year\n",
              "1999    35636\n",
              "2000    35279\n",
              "2002    35128\n",
              "2001    34769\n",
              "1997    34544\n",
              "Name: Suicides_no, dtype: int64"
            ]
          },
          "metadata": {
            "tags": []
          },
          "execution_count": 39
        }
      ]
    },
    {
      "cell_type": "code",
      "metadata": {
        "id": "-fC_5RoB67E0",
        "colab_type": "code",
        "colab": {
          "base_uri": "https://localhost:8080/",
          "height": 136
        },
        "outputId": "8e944e53-d9dc-487f-a83a-a847d6fa4bcd"
      },
      "source": [
        "#8. Finding which countries has the most suicides commited at every 100,000 on overall.\n",
        "df8 = df2.groupby(['Country'])['Suicides_per_hundred_thousand_pop'].sum()\n",
        "df8 = df8.sort_values(ascending = False)\n",
        "df8.head()"
      ],
      "execution_count": 40,
      "outputs": [
        {
          "output_type": "execute_result",
          "data": {
            "text/plain": [
              "Country\n",
              "Lithuania    8091.18\n",
              "Latvia       7264.59\n",
              "Suriname     7162.32\n",
              "Slovenia     7012.62\n",
              "Estonia      6873.78\n",
              "Name: Suicides_per_hundred_thousand_pop, dtype: float64"
            ]
          },
          "metadata": {
            "tags": []
          },
          "execution_count": 40
        }
      ]
    },
    {
      "cell_type": "code",
      "metadata": {
        "id": "WVty7K0bhpMi",
        "colab_type": "code",
        "colab": {
          "base_uri": "https://localhost:8080/",
          "height": 345
        },
        "outputId": "cd6ed0c6-1fb5-4c13-c09e-30fee8222097"
      },
      "source": [
        "#Plotting for the population against Suicides_per_hundred_thousand_pop\n",
        "plt.figure(figsize=(20,5))\n",
        "\n",
        "plt.scatter(df2.Population, df2.Suicides_per_hundred_thousand_pop)\n"
      ],
      "execution_count": 41,
      "outputs": [
        {
          "output_type": "execute_result",
          "data": {
            "text/plain": [
              "<matplotlib.collections.PathCollection at 0x7f9d04f10240>"
            ]
          },
          "metadata": {
            "tags": []
          },
          "execution_count": 41
        },
        {
          "output_type": "display_data",
          "data": {
            "image/png": "[encoded data removed]",
            "text/plain": [
              "<Figure size 1440x360 with 1 Axes>"
            ]
          },
          "metadata": {
            "tags": [],
            "needs_background": "light"
          }
        }
      ]
    },
    {
      "cell_type": "code",
      "metadata": {
        "id": "w7A2joW8BU3K",
        "colab_type": "code",
        "colab": {
          "base_uri": "https://localhost:8080/",
          "height": 170
        },
        "outputId": "333cfd5f-1611-4e8d-b8fe-cc2643152891"
      },
      "source": [
        "#9. Finding which countries has the least suicides commited at every 100,000 on overall\n",
        "dfi = df2.groupby(['Country'])['Suicides_per_hundred_thousand_pop'].sum()\n",
        "dfi = dfi.sort_values(ascending = True)\n",
        "dfi.head(7)"
      ],
      "execution_count": 42,
      "outputs": [
        {
          "output_type": "execute_result",
          "data": {
            "text/plain": [
              "Country\n",
              "Dominica                  0.00\n",
              "Saint Kitts and Nevis     0.00\n",
              "Russian Federation       10.52\n",
              "Oman                     26.50\n",
              "Qatar                    27.30\n",
              "San Marino               47.26\n",
              "United Arab Emirates     50.49\n",
              "Name: Suicides_per_hundred_thousand_pop, dtype: float64"
            ]
          },
          "metadata": {
            "tags": []
          },
          "execution_count": 42
        }
      ]
    },
    {
      "cell_type": "code",
      "metadata": {
        "id": "xdlBvlU77yhs",
        "colab_type": "code",
        "colab": {
          "base_uri": "https://localhost:8080/",
          "height": 136
        },
        "outputId": "3114ab8d-2dbc-4dc0-a1bc-2016f24b25cc"
      },
      "source": [
        "#10. Finding which Age groups has the most suicides commited at every 100,000 on overall\n",
        "df9 = df2.groupby(['Age'])['Suicides_per_hundred_thousand_pop'].sum()\n",
        "df9 = df9.sort_values(ascending = False)\n",
        "df9.head()"
      ],
      "execution_count": 43,
      "outputs": [
        {
          "output_type": "execute_result",
          "data": {
            "text/plain": [
              "Age\n",
              "75+ years      77855.35\n",
              "55-74 years    40175.26\n",
              "25-34 years    35094.57\n",
              "35-54 years    32224.65\n",
              "15-24 years    27357.85\n",
              "Name: Suicides_per_hundred_thousand_pop, dtype: float64"
            ]
          },
          "metadata": {
            "tags": []
          },
          "execution_count": 43
        }
      ]
    },
    {
      "cell_type": "code",
      "metadata": {
        "id": "gpnKeFRu8xdm",
        "colab_type": "code",
        "colab": {
          "base_uri": "https://localhost:8080/",
          "height": 332
        },
        "outputId": "747acae3-9424-4b32-bd46-fca7d2ec1d81"
      },
      "source": [
        "#plotting the 75+ years suicide rate for exapmle a country otside africa\n",
        "dfx = df2.loc[df2['Age'] == '75+ years']\n",
        "\n",
        "dfb = dfx.loc[dfx['Country'] == 'Chile']\n",
        "plt.figure(figsize=(20,5))\n",
        "plt.plot(dfb.Year, dfb.Suicides_no)"
      ],
      "execution_count": 44,
      "outputs": [
        {
          "output_type": "execute_result",
          "data": {
            "text/plain": [
              "[<matplotlib.lines.Line2D at 0x7f9d04c9dbe0>]"
            ]
          },
          "metadata": {
            "tags": []
          },
          "execution_count": 44
        },
        {
          "output_type": "display_data",
          "data": {
            "image/png": "[encoded data removed]",
            "text/plain": [
              "<Figure size 1440x360 with 1 Axes>"
            ]
          },
          "metadata": {
            "tags": [],
            "needs_background": "light"
          }
        }
      ]
    },
    {
      "cell_type": "code",
      "metadata": {
        "id": "EvxzST4xGbMb",
        "colab_type": "code",
        "colab": {
          "base_uri": "https://localhost:8080/",
          "height": 335
        },
        "outputId": "22135028-05e9-473a-e432-a157add44570"
      },
      "source": [
        "#plotting the suicide rate with an african country (Mauritius)\n",
        "dfb = dfx.loc[dfx['Country'] == 'Mauritius']\n",
        "plt.figure(figsize=(20,5))\n",
        "plt.plot(dfb.Year, dfb.Suicides_no)"
      ],
      "execution_count": 45,
      "outputs": [
        {
          "output_type": "execute_result",
          "data": {
            "text/plain": [
              "[<matplotlib.lines.Line2D at 0x7f9d04b03278>]"
            ]
          },
          "metadata": {
            "tags": []
          },
          "execution_count": 45
        },
        {
          "output_type": "display_data",
          "data": {
            "image/png": "[encoded data removed]",
            "text/plain": [
              "<Figure size 1440x360 with 1 Axes>"
            ]
          },
          "metadata": {
            "tags": [],
            "needs_background": "light"
          }
        }
      ]
    },
    {
      "cell_type": "code",
      "metadata": {
        "id": "Nm24rlgK3JWr",
        "colab_type": "code",
        "colab": {
          "base_uri": "https://localhost:8080/",
          "height": 221
        },
        "outputId": "7a3259e3-6041-43db-c347-d98fdb69c0e9"
      },
      "source": [
        "#11. does the GDP affect a countries suicide rates? if so how? no overall\n",
        "df15 = df2.groupby(['Country', 'Suicides_no'])['Gdp_for_year'].sum()\n",
        "df16 = df15.sort_values(ascending=False)\n",
        "df16.head(10)\n",
        "#countries with high gdp have the lowest suicide cases"
      ],
      "execution_count": 46,
      "outputs": [
        {
          "output_type": "execute_result",
          "data": {
            "text/plain": [
              "Country               Suicides_no\n",
              "Greece                0              7.745288e+12\n",
              "Kuwait                0              4.832061e+12\n",
              "South Africa          4              3.632857e+12\n",
              "                      8              3.519811e+12\n",
              "Portugal              0              2.988242e+12\n",
              "South Africa          2              2.984354e+12\n",
              "Slovakia              0              2.891629e+12\n",
              "United Arab Emirates  0              2.786637e+12\n",
              "Australia             4              2.597880e+12\n",
              "Sweden                3              2.592805e+12\n",
              "Name: Gdp_for_year, dtype: float64"
            ]
          },
          "metadata": {
            "tags": []
          },
          "execution_count": 46
        }
      ]
    },
    {
      "cell_type": "code",
      "metadata": {
        "id": "RR4gDwKUliNs",
        "colab_type": "code",
        "colab": {
          "base_uri": "https://localhost:8080/",
          "height": 344
        },
        "outputId": "e2528d91-38d9-4d21-ec26-bf5d4da4c436"
      },
      "source": [
        "#plotting Gdp_for_year against suicide rate\n",
        "plt.figure(figsize=(20,5))\n",
        "plt.scatter(df2.Gdp_for_year, df2.Suicide_rate)"
      ],
      "execution_count": 47,
      "outputs": [
        {
          "output_type": "execute_result",
          "data": {
            "text/plain": [
              "<matplotlib.collections.PathCollection at 0x7f9d048f2748>"
            ]
          },
          "metadata": {
            "tags": []
          },
          "execution_count": 47
        },
        {
          "output_type": "display_data",
          "data": {
            "image/png": "[encoded data removed]",
            "text/plain": [
              "<Figure size 1440x360 with 1 Axes>"
            ]
          },
          "metadata": {
            "tags": [],
            "needs_background": "light"
          }
        }
      ]
    },
    {
      "cell_type": "code",
      "metadata": {
        "id": "uoJW0DsQ5S9c",
        "colab_type": "code",
        "colab": {
          "base_uri": "https://localhost:8080/",
          "height": 289
        },
        "outputId": "dba70b1b-b526-4e04-ae9e-318e968e3fa1"
      },
      "source": [
        "#12 how does population impact the suicide rates? on overall\n",
        "df17 = df2.groupby(['Country'])['Suicide_rate', 'Gdp_per_capita'].sum()\n",
        "df18 = df17.sort_values(by = 'Gdp_per_capita', ascending=False)\n",
        "df18.head()\n",
        "\n"
      ],
      "execution_count": 48,
      "outputs": [
        {
          "output_type": "stream",
          "text": [
            "/usr/local/lib/python3.6/dist-packages/ipykernel_launcher.py:2: FutureWarning: Indexing with multiple keys (implicitly converted to a tuple of keys) will be deprecated, use a list instead.\n",
            "  \n"
          ],
          "name": "stderr"
        },
        {
          "output_type": "execute_result",
          "data": {
            "text/html": [
              "<div>\n",
              "<style scoped>\n",
              "    .dataframe tbody tr th:only-of-type {\n",
              "        vertical-align: middle;\n",
              "    }\n",
              "\n",
              "    .dataframe tbody tr th {\n",
              "        vertical-align: top;\n",
              "    }\n",
              "\n",
              "    .dataframe thead th {\n",
              "        text-align: right;\n",
              "    }\n",
              "</style>\n",
              "<table border=\"1\" class=\"dataframe\">\n",
              "  <thead>\n",
              "    <tr style=\"text-align: right;\">\n",
              "      <th></th>\n",
              "      <th>Suicide_rate</th>\n",
              "      <th>Gdp_per_capita</th>\n",
              "    </tr>\n",
              "    <tr>\n",
              "      <th>Country</th>\n",
              "      <th></th>\n",
              "      <th></th>\n",
              "    </tr>\n",
              "  </thead>\n",
              "  <tbody>\n",
              "    <tr>\n",
              "      <th>Israel</th>\n",
              "      <td>3.329913</td>\n",
              "      <td>8602668</td>\n",
              "    </tr>\n",
              "    <tr>\n",
              "      <th>New Zealand</th>\n",
              "      <td>4.863756</td>\n",
              "      <td>7198884</td>\n",
              "    </tr>\n",
              "    <tr>\n",
              "      <th>Bahamas</th>\n",
              "      <td>0.344269</td>\n",
              "      <td>7130844</td>\n",
              "    </tr>\n",
              "    <tr>\n",
              "      <th>Puerto Rico</th>\n",
              "      <td>3.789284</td>\n",
              "      <td>6827184</td>\n",
              "    </tr>\n",
              "    <tr>\n",
              "      <th>Singapore</th>\n",
              "      <td>5.108645</td>\n",
              "      <td>6530112</td>\n",
              "    </tr>\n",
              "  </tbody>\n",
              "</table>\n",
              "</div>"
            ],
            "text/plain": [
              "             Suicide_rate  Gdp_per_capita\n",
              "Country                                  \n",
              "Israel           3.329913         8602668\n",
              "New Zealand      4.863756         7198884\n",
              "Bahamas          0.344269         7130844\n",
              "Puerto Rico      3.789284         6827184\n",
              "Singapore        5.108645         6530112"
            ]
          },
          "metadata": {
            "tags": []
          },
          "execution_count": 48
        }
      ]
    },
    {
      "cell_type": "code",
      "metadata": {
        "id": "xik_qeIbn3-3",
        "colab_type": "code",
        "colab": {
          "base_uri": "https://localhost:8080/",
          "height": 331
        },
        "outputId": "08515f8d-f460-427b-9d97-8884be8bac32"
      },
      "source": [
        "#plotting Gdp_per_capita against suicide_rate\n",
        "plt.figure(figsize=(20,5))\n",
        "plt.bar(df2.Gdp_per_capita, df2.Suicide_rate)"
      ],
      "execution_count": 49,
      "outputs": [
        {
          "output_type": "execute_result",
          "data": {
            "text/plain": [
              "<BarContainer object of 19808 artists>"
            ]
          },
          "metadata": {
            "tags": []
          },
          "execution_count": 49
        },
        {
          "output_type": "display_data",
          "data": {
            "image/png": "[encoded data removed]",
            "text/plain": [
              "<Figure size 1440x360 with 1 Axes>"
            ]
          },
          "metadata": {
            "tags": [],
            "needs_background": "light"
          }
        }
      ]
    }
  ]
}